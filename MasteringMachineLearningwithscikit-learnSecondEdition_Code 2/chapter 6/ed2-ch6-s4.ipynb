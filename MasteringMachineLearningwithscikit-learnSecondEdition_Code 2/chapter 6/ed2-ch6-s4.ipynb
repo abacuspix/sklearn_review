{
 "cells": [
  {
   "cell_type": "code",
   "execution_count": 1,
   "metadata": {
    "collapsed": false,
    "jupyter": {
     "outputs_hidden": false
    }
   },
   "outputs": [
    {
     "name": "stdout",
     "output_type": "stream",
     "text": [
      "Hamming Loss: 0.0\n",
      "Jaccard Similarity: 1.0\n"
     ]
    }
   ],
   "source": [
    "import numpy as np\n",
    "from sklearn.metrics import hamming_loss, jaccard_score\n",
    "\n",
    "# 定义示例数据\n",
    "y_true = np.array([[0.0, 1.0], [1.0, 1.0]])\n",
    "y_pred = np.array([[0.0, 1.0], [1.0, 1.0]])\n",
    "\n",
    "# 计算汉明损失\n",
    "ham_loss = hamming_loss(y_true, y_pred)\n",
    "print(f\"Hamming Loss: {ham_loss}\")\n",
    "\n",
    "# 计算杰卡德相似度\n",
    "jaccard_sim = jaccard_score(y_true, y_pred, average='samples')\n",
    "print(f\"Jaccard Similarity: {jaccard_sim}\")\n"
   ]
  },
  {
   "cell_type": "code",
   "execution_count": 2,
   "metadata": {
    "collapsed": false,
    "jupyter": {
     "outputs_hidden": false
    }
   },
   "outputs": [
    {
     "name": "stdout",
     "output_type": "stream",
     "text": [
      "0.25\n"
     ]
    }
   ],
   "source": [
    "print(hamming_loss(np.array([[0.0, 1.0], [1.0, 1.0]]), np.array([[1.0, 1.0], [1.0, 1.0]])))"
   ]
  },
  {
   "cell_type": "code",
   "execution_count": 5,
   "metadata": {
    "collapsed": false,
    "jupyter": {
     "outputs_hidden": false
    }
   },
   "outputs": [
    {
     "name": "stdout",
     "output_type": "stream",
     "text": [
      "0.5\n"
     ]
    }
   ],
   "source": [
    "print(hamming_loss(np.array([[0.0, 1.0], [1.0, 1.0]]), np.array([[1.0, 1.0], [0.0, 1.0]])))"
   ]
  },
  {
   "cell_type": "code",
   "execution_count": 6,
   "metadata": {
    "collapsed": false,
    "jupyter": {
     "outputs_hidden": false
    }
   },
   "outputs": [
    {
     "name": "stdout",
     "output_type": "stream",
     "text": [
      "Jaccard Similarity: 1.0\n"
     ]
    }
   ],
   "source": [
    "import numpy as np\n",
    "from sklearn.metrics import jaccard_score\n",
    "\n",
    "# 定义示例数据\n",
    "y_true = np.array([[0.0, 1.0], [1.0, 1.0]])\n",
    "y_pred = np.array([[0.0, 1.0], [1.0, 1.0]])\n",
    "\n",
    "# 由于 jaccard_score 期望输入为1D数组，需要展平数组\n",
    "y_true_flat = y_true.ravel()\n",
    "y_pred_flat = y_pred.ravel()\n",
    "\n",
    "# 计算杰卡德相似度\n",
    "jaccard_sim = jaccard_score(y_true_flat, y_pred_flat, average='binary')\n",
    "print(f\"Jaccard Similarity: {jaccard_sim}\")\n"
   ]
  },
  {
   "cell_type": "code",
   "execution_count": 9,
   "metadata": {
    "collapsed": false,
    "jupyter": {
     "outputs_hidden": false
    }
   },
   "outputs": [
    {
     "name": "stdout",
     "output_type": "stream",
     "text": [
      "Jaccard Similarity: 0.75\n"
     ]
    }
   ],
   "source": [
    "import numpy as np\n",
    "from sklearn.metrics import jaccard_score\n",
    "\n",
    "# 定义示例数据\n",
    "y_true = np.array([[0.0, 1.0], [1.0, 1.0]])\n",
    "y_pred = np.array([[1.0, 1.0], [1.0, 1.0]])\n",
    "\n",
    "# 展平数组\n",
    "y_true_flat = y_true.ravel()\n",
    "y_pred_flat = y_pred.ravel()\n",
    "\n",
    "# 计算杰卡德相似度\n",
    "jaccard_sim = jaccard_score(y_true_flat, y_pred_flat, average='binary')\n",
    "print(f\"Jaccard Similarity: {jaccard_sim}\")\n"
   ]
  },
  {
   "cell_type": "code",
   "execution_count": 11,
   "metadata": {
    "collapsed": false,
    "jupyter": {
     "outputs_hidden": false
    }
   },
   "outputs": [
    {
     "name": "stdout",
     "output_type": "stream",
     "text": [
      "Jaccard Similarity: 0.5\n"
     ]
    }
   ],
   "source": [
    "import numpy as np\n",
    "from sklearn.metrics import jaccard_score\n",
    "\n",
    "# 定义示例数据\n",
    "y_true = np.array([[0.0, 1.0], [1.0, 1.0]])\n",
    "y_pred = np.array([[1.0, 1.0], [0.0, 1.0]])\n",
    "\n",
    "# 展平数组\n",
    "y_true_flat = y_true.ravel()\n",
    "y_pred_flat = y_pred.ravel()\n",
    "\n",
    "# 计算杰卡德相似度\n",
    "jaccard_sim = jaccard_score(y_true_flat, y_pred_flat, average='binary')\n",
    "print(f\"Jaccard Similarity: {jaccard_sim}\")\n"
   ]
  }
 ],
 "metadata": {
  "kernelspec": {
   "display_name": "Python 3 (ipykernel)",
   "language": "python",
   "name": "python3"
  },
  "language_info": {
   "codemirror_mode": {
    "name": "ipython",
    "version": 3
   },
   "file_extension": ".py",
   "mimetype": "text/x-python",
   "name": "python",
   "nbconvert_exporter": "python",
   "pygments_lexer": "ipython3",
   "version": "3.11.7"
  }
 },
 "nbformat": 4,
 "nbformat_minor": 4
}
