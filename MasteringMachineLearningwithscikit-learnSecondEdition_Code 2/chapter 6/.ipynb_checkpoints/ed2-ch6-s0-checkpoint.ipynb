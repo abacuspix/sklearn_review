{
 "cells": [
  {
   "cell_type": "code",
   "execution_count": 3,
   "metadata": {
    "collapsed": false,
    "jupyter": {
     "outputs_hidden": false
    }
   },
   "outputs": [
    {
     "name": "stdout",
     "output_type": "stream",
     "text": [
      "      0                                                  1\n",
      "0   ham  Go until jurong point, crazy.. Available only ...\n",
      "1   ham                      Ok lar... Joking wif u oni...\n",
      "2  spam  Free entry in 2 a wkly comp to win FA Cup fina...\n",
      "3   ham  U dun say so early hor... U c already then say...\n",
      "4   ham  Nah I don't think he goes to usf, he lives aro...\n"
     ]
    }
   ],
   "source": [
    "import pandas as pd\n",
    "df = pd.read_csv('./SMSSpamCollection', delimiter='\\t', header=None)\n",
    "print(df.head())"
   ]
  },
  {
   "cell_type": "code",
   "execution_count": 5,
   "metadata": {
    "collapsed": false,
    "jupyter": {
     "outputs_hidden": false
    }
   },
   "outputs": [
    {
     "name": "stdout",
     "output_type": "stream",
     "text": [
      "Number of spam messages: 747\n",
      "Number of ham messages: 4825\n"
     ]
    }
   ],
   "source": [
    "print('Number of spam messages: %s' % df[df[0] == 'spam'][0].count())\n",
    "print('Number of ham messages: %s' % df[df[0] == 'ham'][0].count())"
   ]
  },
  {
   "cell_type": "code",
   "execution_count": 11,
   "metadata": {
    "collapsed": false,
    "jupyter": {
     "outputs_hidden": false
    }
   },
   "outputs": [
    {
     "name": "stdout",
     "output_type": "stream",
     "text": [
      "Predicted: 1, message: I love this movie\n",
      "Predicted: 1, message: I hate this movie\n",
      "Predicted: 1, message: Worst movie ever\n",
      "Predicted: 1, message: Incredible scenes\n",
      "Cross validation scores: [0.25 0.25 0.25]\n",
      "Average cross validation score: 0.25\n"
     ]
    }
   ],
   "source": [
    "import numpy as np\n",
    "import pandas as pd\n",
    "from sklearn.feature_extraction.text import TfidfVectorizer\n",
    "from sklearn.linear_model import LogisticRegression\n",
    "from sklearn.model_selection import train_test_split, cross_val_score, StratifiedKFold\n",
    "\n",
    "# 示例数据，添加更多样本\n",
    "data = {\n",
    "    0: [1, 0, 1, 0, 1, 0, 1, 0, 1, 0, 1, 0, 1, 0, 1, 0],\n",
    "    1: [\n",
    "        \"I love this movie\", \n",
    "        \"I hate this movie\", \n",
    "        \"This is an awesome movie\", \n",
    "        \"This is a terrible movie\", \n",
    "        \"Best movie ever\",\n",
    "        \"Worst movie ever\",\n",
    "        \"Amazing movie\",\n",
    "        \"Awful movie\",\n",
    "        \"Loved it\",\n",
    "        \"Hated it\",\n",
    "        \"Fantastic film\",\n",
    "        \"Terrible film\",\n",
    "        \"Wonderful story\",\n",
    "        \"Dreadful plot\",\n",
    "        \"Incredible scenes\",\n",
    "        \"Horrible acting\"\n",
    "    ]\n",
    "}\n",
    "df = pd.DataFrame(data)\n",
    "\n",
    "# 获取特征和标签\n",
    "X = df[1].values\n",
    "y = df[0].values\n",
    "\n",
    "# 拆分数据集\n",
    "X_train_raw, X_test_raw, y_train, y_test = train_test_split(X, y, test_size=0.2, random_state=42)\n",
    "\n",
    "# 特征提取\n",
    "vectorizer = TfidfVectorizer()\n",
    "X_train = vectorizer.fit_transform(X_train_raw)\n",
    "X_test = vectorizer.transform(X_test_raw)\n",
    "\n",
    "# 初始化逻辑回归分类器\n",
    "classifier = LogisticRegression()\n",
    "\n",
    "# 训练模型\n",
    "classifier.fit(X_train, y_train)\n",
    "\n",
    "# 进行预测\n",
    "predictions = classifier.predict(X_test)\n",
    "\n",
    "# 打印预测结果\n",
    "for i, prediction in enumerate(predictions[:5]):\n",
    "    print(f'Predicted: {prediction}, message: {X_test_raw[i]}')\n",
    "\n",
    "# 使用 StratifiedKFold 计算交叉验证得分\n",
    "skf = StratifiedKFold(n_splits=3)\n",
    "scores = cross_val_score(classifier, X_train, y_train, cv=skf)\n",
    "print(f'Cross validation scores: {scores}')\n",
    "print(f'Average cross validation score: {np.mean(scores)}')\n"
   ]
  },
  {
   "cell_type": "code",
   "execution_count": 13,
   "metadata": {
    "collapsed": false,
    "jupyter": {
     "outputs_hidden": false
    }
   },
   "outputs": [
    {
     "name": "stdout",
     "output_type": "stream",
     "text": [
      "[[4 1]\n",
      " [2 3]]\n"
     ]
    },
    {
     "data": {
      "image/png": "[encoded data removed]",
      "text/plain": [
       "<Figure size 480x480 with 2 Axes>"
      ]
     },
     "metadata": {},
     "output_type": "display_data"
    }
   ],
   "source": [
    "from sklearn.metrics import confusion_matrix\n",
    "import matplotlib.pyplot as plt\n",
    "\n",
    "y_test = [0, 0, 0, 0, 0, 1, 1, 1, 1, 1]\n",
    "y_pred = [0, 1, 0, 0, 0, 0, 0, 1, 1, 1]\n",
    "confusion_matrix = confusion_matrix(y_test, y_pred)\n",
    "print(confusion_matrix)\n",
    "plt.matshow(confusion_matrix)\n",
    "plt.title('Confusion matrix')\n",
    "plt.colorbar()\n",
    "plt.ylabel('True label')\n",
    "plt.xlabel('Predicted label')\n",
    "plt.show()"
   ]
  }
 ],
 "metadata": {
  "kernelspec": {
   "display_name": "Python 3 (ipykernel)",
   "language": "python",
   "name": "python3"
  },
  "language_info": {
   "codemirror_mode": {
    "name": "ipython",
    "version": 3
   },
   "file_extension": ".py",
   "mimetype": "text/x-python",
   "name": "python",
   "nbconvert_exporter": "python",
   "pygments_lexer": "ipython3",
   "version": "3.11.7"
  }
 },
 "nbformat": 4,
 "nbformat_minor": 4
}
