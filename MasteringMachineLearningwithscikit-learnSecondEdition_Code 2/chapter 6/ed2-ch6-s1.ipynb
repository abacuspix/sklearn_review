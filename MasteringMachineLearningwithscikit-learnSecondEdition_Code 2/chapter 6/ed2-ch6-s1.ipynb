{
 "cells": [
  {
   "cell_type": "code",
   "execution_count": 2,
   "metadata": {
    "collapsed": false,
    "jupyter": {
     "outputs_hidden": false
    }
   },
   "outputs": [
    {
     "name": "stdout",
     "output_type": "stream",
     "text": [
      "0    4827\n",
      "1     747\n",
      "Name: label, dtype: int64\n",
      "Accuracies: [0.95964126 0.95964126 0.95627803 0.95179372 0.95286195]\n",
      "Mean accuracy: 0.9560432425903278\n",
      "              precision    recall  f1-score   support\n",
      "\n",
      "         ham       0.97      1.00      0.98       966\n",
      "        spam       0.98      0.80      0.88       149\n",
      "\n",
      "    accuracy                           0.97      1115\n",
      "   macro avg       0.98      0.90      0.93      1115\n",
      "weighted avg       0.97      0.97      0.97      1115\n",
      "\n",
      "[[964   2]\n",
      " [ 30 119]]\n",
      "No positive samples in the test set.\n"
     ]
    }
   ],
   "source": [
    "import numpy as np\n",
    "import pandas as pd\n",
    "from sklearn.feature_extraction.text import TfidfVectorizer\n",
    "from sklearn.linear_model import LogisticRegression\n",
    "from sklearn.model_selection import train_test_split, StratifiedKFold, cross_val_score\n",
    "from sklearn.metrics import roc_curve, auc, classification_report, confusion_matrix\n",
    "import matplotlib.pyplot as plt\n",
    "\n",
    "# 读取数据\n",
    "df = pd.read_csv('./sms.csv')\n",
    "\n",
    "# 检查数据集的类别分布\n",
    "print(df['label'].value_counts())\n",
    "\n",
    "# 拆分数据集，确保每个分割中都有足够的正负样本\n",
    "X_train_raw, X_test_raw, y_train, y_test = train_test_split(df['message'], df['label'], test_size=0.2, random_state=11, stratify=df['label'])\n",
    "\n",
    "# 特征提取\n",
    "vectorizer = TfidfVectorizer()\n",
    "X_train = vectorizer.fit_transform(X_train_raw)\n",
    "X_test = vectorizer.transform(X_test_raw)\n",
    "\n",
    "# 初始化逻辑回归分类器\n",
    "classifier = LogisticRegression(max_iter=1000)\n",
    "\n",
    "# 训练模型\n",
    "classifier.fit(X_train, y_train)\n",
    "\n",
    "# 交叉验证\n",
    "skf = StratifiedKFold(n_splits=5)\n",
    "scores = cross_val_score(classifier, X_train, y_train, cv=skf)\n",
    "print('Accuracies: %s' % scores)\n",
    "print('Mean accuracy: %s' % np.mean(scores))\n",
    "\n",
    "# 预测\n",
    "y_pred = classifier.predict(X_test)\n",
    "y_pred_prob = classifier.predict_proba(X_test)[:, 1]\n",
    "\n",
    "# 打印分类报告和混淆矩阵\n",
    "print(classification_report(y_test, y_pred, target_names=['ham', 'spam']))\n",
    "print(confusion_matrix(y_test, y_pred))\n",
    "\n",
    "# 计算ROC曲线和AUC\n",
    "if (y_test == 'spam').any():\n",
    "    fpr, tpr, thresholds = roc_curve(y_test, y_pred_prob, pos_label='spam')\n",
    "    roc_auc = auc(fpr, tpr)\n",
    "    print('ROC AUC: %s' % roc_auc)\n",
    "\n",
    "    # 绘制ROC曲线\n",
    "    plt.figure()\n",
    "    plt.plot(fpr, tpr, color='darkorange', lw=2, label='ROC curve (area = %0.2f)' % roc_auc)\n",
    "    plt.plot([0, 1], [0, 1], color='navy', lw=2, linestyle='--')\n",
    "    plt.xlim([0.0, 1.0])\n",
    "    plt.ylim([0.0, 1.05])\n",
    "    plt.xlabel('False Positive Rate')\n",
    "    plt.ylabel('True Positive Rate')\n",
    "    plt.title('Receiver Operating Characteristic')\n",
    "    plt.legend(loc=\"lower right\")\n",
    "    plt.show()\n",
    "else:\n",
    "    print(\"No positive samples in the test set.\")\n"
   ]
  },
  {
   "cell_type": "code",
   "execution_count": 4,
   "metadata": {
    "collapsed": false,
    "jupyter": {
     "outputs_hidden": false
    }
   },
   "outputs": [
    {
     "name": "stdout",
     "output_type": "stream",
     "text": [
      "Precision: 0.9905699587084547\n",
      "Recall: 0.6789355742296919\n"
     ]
    }
   ],
   "source": [
    "precisions = cross_val_score(classifier, X_train, y_train, cv=5, scoring='precision')\n",
    "print('Precision: %s' % np.mean(precisions))\n",
    "recalls = cross_val_score(classifier, X_train, y_train, cv=5, scoring='recall')\n",
    "print('Recall: %s' % np.mean(recalls))"
   ]
  },
  {
   "cell_type": "code",
   "execution_count": 6,
   "metadata": {
    "collapsed": false,
    "jupyter": {
     "outputs_hidden": false
    }
   },
   "outputs": [
    {
     "name": "stdout",
     "output_type": "stream",
     "text": [
      "F1 score: 0.8052054628290349\n"
     ]
    }
   ],
   "source": [
    "f1s = cross_val_score(classifier, X_train, y_train, cv=5, scoring='f1')\n",
    "print('F1 score: %s' % np.mean(f1s))"
   ]
  },
  {
   "cell_type": "code",
   "execution_count": 8,
   "metadata": {
    "collapsed": false,
    "jupyter": {
     "outputs_hidden": false
    }
   },
   "outputs": [
    {
     "data": {
      "image/png": "[encoded data removed]",
      "text/plain": [
       "<Figure size 640x480 with 1 Axes>"
      ]
     },
     "metadata": {},
     "output_type": "display_data"
    }
   ],
   "source": [
    "predictions = classifier.predict_proba(X_test)\n",
    "false_positive_rate, recall, thresholds = roc_curve(y_test, predictions[:, 1])\n",
    "roc_auc = auc(false_positive_rate, recall)\n",
    "plt.title('Receiver Operating Characteristic')\n",
    "plt.plot(false_positive_rate, recall, 'b', label='AUC = %0.2f' % roc_auc)\n",
    "plt.legend(loc='lower right')\n",
    "plt.plot([0, 1], [0, 1], 'r--')\n",
    "plt.xlim([0.0, 1.0])\n",
    "plt.ylim([0.0, 1.0])\n",
    "plt.ylabel('Recall')\n",
    "plt.xlabel('Fall-out')\n",
    "plt.show()"
   ]
  }
 ],
 "metadata": {
  "kernelspec": {
   "display_name": "Python 3 (ipykernel)",
   "language": "python",
   "name": "python3"
  },
  "language_info": {
   "codemirror_mode": {
    "name": "ipython",
    "version": 3
   },
   "file_extension": ".py",
   "mimetype": "text/x-python",
   "name": "python",
   "nbconvert_exporter": "python",
   "pygments_lexer": "ipython3",
   "version": "3.11.7"
  }
 },
 "nbformat": 4,
 "nbformat_minor": 4
}
