{
 "cells": [
  {
   "cell_type": "code",
   "execution_count": 8,
   "metadata": {
    "collapsed": false,
    "jupyter": {
     "outputs_hidden": false
    }
   },
   "outputs": [
    {
     "name": "stdout",
     "output_type": "stream",
     "text": [
      "Cross-validated R-squared scores: [ 6.53463616e-01 -4.39721947e+01  6.12989050e-01 -1.16620158e+01\n",
      " -3.09276443e+06]\n",
      "Mean cross-validated R-squared score: -618563.7590690053\n",
      "Test R-squared score: 0.5798267665069695\n"
     ]
    }
   ],
   "source": [
    "import numpy as np\n",
    "from sklearn.datasets import fetch_california_housing\n",
    "from sklearn.linear_model import SGDRegressor\n",
    "from sklearn.model_selection import cross_val_score\n",
    "from sklearn.preprocessing import StandardScaler\n",
    "from sklearn.model_selection import train_test_split\n",
    "\n",
    "# 读取California housing数据集\n",
    "housing = fetch_california_housing()\n",
    "X = housing.data\n",
    "y = housing.target\n",
    "\n",
    "# 拆分训练集和测试集\n",
    "X_train, X_test, y_train, y_test = train_test_split(X, y, test_size=0.2, random_state=42)\n",
    "\n",
    "# 标准化特征\n",
    "scaler = StandardScaler()\n",
    "X_train = scaler.fit_transform(X_train)\n",
    "X_test = scaler.transform(X_test)\n",
    "\n",
    "# 初始化SGD回归器\n",
    "sgd_regressor = SGDRegressor(max_iter=1000, tol=1e-3, random_state=42)\n",
    "\n",
    "# 训练模型\n",
    "sgd_regressor.fit(X_train, y_train)\n",
    "\n",
    "# 使用交叉验证评估模型\n",
    "scores = cross_val_score(sgd_regressor, X_train, y_train, cv=5, scoring='r2')\n",
    "print(\"Cross-validated R-squared scores:\", scores)\n",
    "print(\"Mean cross-validated R-squared score:\", np.mean(scores))\n",
    "\n",
    "# 在测试集上评估模型\n",
    "test_score = sgd_regressor.score(X_test, y_test)\n",
    "print(\"Test R-squared score:\", test_score)\n"
   ]
  },
  {
   "cell_type": "code",
   "execution_count": 10,
   "metadata": {
    "collapsed": false,
    "jupyter": {
     "outputs_hidden": false
    },
    "scrolled": true
   },
   "outputs": [
    {
     "name": "stdout",
     "output_type": "stream",
     "text": [
      "Cross validation r-squared scores: [ 6.48287002e-01 -1.99866044e+01  6.12991302e-01 -1.01398360e+01\n",
      " -2.66338738e+06]\n",
      "Average cross validation r-squared score: -532683.2485389799\n",
      "Test set r-squared score: 0.5782791257511655\n"
     ]
    }
   ],
   "source": [
    "import numpy as np\n",
    "from sklearn.datasets import fetch_california_housing\n",
    "from sklearn.linear_model import SGDRegressor\n",
    "from sklearn.model_selection import cross_val_score, train_test_split\n",
    "from sklearn.preprocessing import StandardScaler\n",
    "\n",
    "# 读取California housing数据集\n",
    "housing = fetch_california_housing()\n",
    "X = housing.data\n",
    "y = housing.target\n",
    "\n",
    "# 拆分训练集和测试集\n",
    "X_train, X_test, y_train, y_test = train_test_split(X, y, test_size=0.2, random_state=42)\n",
    "\n",
    "# 标准化特征和目标变量\n",
    "X_scaler = StandardScaler()\n",
    "y_scaler = StandardScaler()\n",
    "X_train = X_scaler.fit_transform(X_train)\n",
    "y_train = y_scaler.fit_transform(y_train.reshape(-1, 1)).ravel()\n",
    "X_test = X_scaler.transform(X_test)\n",
    "y_test = y_scaler.transform(y_test.reshape(-1, 1)).ravel()\n",
    "\n",
    "# 初始化SGD回归器\n",
    "regressor = SGDRegressor(loss='squared_error', max_iter=1000, tol=1e-3, random_state=42)\n",
    "\n",
    "# 使用交叉验证评估模型\n",
    "scores = cross_val_score(regressor, X_train, y_train, cv=5)\n",
    "print('Cross validation r-squared scores:', scores)\n",
    "print('Average cross validation r-squared score:', np.mean(scores))\n",
    "\n",
    "# 训练模型\n",
    "regressor.fit(X_train, y_train)\n",
    "\n",
    "# 在测试集上评估模型\n",
    "test_score = regressor.score(X_test, y_test)\n",
    "print('Test set r-squared score:', test_score)\n"
   ]
  }
 ],
 "metadata": {
  "kernelspec": {
   "display_name": "Python 3 (ipykernel)",
   "language": "python",
   "name": "python3"
  },
  "language_info": {
   "codemirror_mode": {
    "name": "ipython",
    "version": 3
   },
   "file_extension": ".py",
   "mimetype": "text/x-python",
   "name": "python",
   "nbconvert_exporter": "python",
   "pygments_lexer": "ipython3",
   "version": "3.11.7"
  }
 },
 "nbformat": 4,
 "nbformat_minor": 4
}
