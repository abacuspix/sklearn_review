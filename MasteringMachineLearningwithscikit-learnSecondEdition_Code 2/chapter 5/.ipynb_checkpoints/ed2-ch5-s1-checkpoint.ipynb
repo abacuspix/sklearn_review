{
 "cells": [
  {
   "cell_type": "code",
   "execution_count": 5,
   "metadata": {
    "collapsed": false,
    "jupyter": {
     "outputs_hidden": false
    }
   },
   "outputs": [
    {
     "name": "stdout",
     "output_type": "stream",
     "text": [
      "[[1.1875    ]\n",
      " [1.01041667]\n",
      " [0.39583333]]\n"
     ]
    }
   ],
   "source": [
    "from numpy.linalg import inv\n",
    "from numpy import dot, transpose\n",
    "import numpy as np\n",
    "\n",
    "# 定义矩阵 X 和向量 y\n",
    "X = np.array([[1, 6, 2], [1, 8, 1], [1, 10, 0], [1, 14, 2], [1, 18, 0]])\n",
    "y = np.array([[7], [9], [13], [17.5], [18]])\n",
    "\n",
    "# 计算 (X^T X) 的逆\n",
    "X_transpose = transpose(X)\n",
    "X_transpose_X_inv = inv(dot(X_transpose, X))\n",
    "\n",
    "# 计算参数 beta\n",
    "beta = dot(X_transpose_X_inv, dot(X_transpose, y))\n",
    "\n",
    "print(beta)\n"
   ]
  },
  {
   "cell_type": "code",
   "execution_count": null,
   "metadata": {
    "collapsed": true,
    "jupyter": {
     "outputs_hidden": true
    }
   },
   "outputs": [],
   "source": []
  }
 ],
 "metadata": {
  "kernelspec": {
   "display_name": "Python 3 (ipykernel)",
   "language": "python",
   "name": "python3"
  },
  "language_info": {
   "codemirror_mode": {
    "name": "ipython",
    "version": 3
   },
   "file_extension": ".py",
   "mimetype": "text/x-python",
   "name": "python",
   "nbconvert_exporter": "python",
   "pygments_lexer": "ipython3",
   "version": "3.11.7"
  }
 },
 "nbformat": 4,
 "nbformat_minor": 4
}
