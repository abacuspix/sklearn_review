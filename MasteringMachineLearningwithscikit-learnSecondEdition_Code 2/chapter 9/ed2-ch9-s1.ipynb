{
 "cells": [
  {
   "cell_type": "code",
   "execution_count": 2,
   "metadata": {
    "collapsed": false,
    "jupyter": {
     "outputs_hidden": false
    }
   },
   "outputs": [
    {
     "name": "stdout",
     "output_type": "stream",
     "text": [
      "Original sample: [78 49  8 54 21 99 17 12 91 82]\n",
      "Sample mean: 51.1\n",
      "Number of bootstrap re-samples: 100\n",
      "Example re-sample: [12 91  8 91  8 99 49 54 17 82]\n",
      "Mean of re-samples' means: 49.957\n"
     ]
    }
   ],
   "source": [
    "import numpy as np\n",
    "\n",
    "# Sample 10 integers\n",
    "sample = np.random.randint(low=1, high=100, size=10)\n",
    "print('Original sample: %s' % sample)\n",
    "print('Sample mean: %s' % sample.mean())\n",
    "\n",
    "# Bootstrap re-sample 100 times by re-sampling with replacement from the original sample\n",
    "resamples = [np.random.choice(sample, size=sample.shape) for i in range(100)]\n",
    "print('Number of bootstrap re-samples: %s' % len(resamples))\n",
    "print('Example re-sample: %s' % resamples[0])\n",
    "\n",
    "resample_means = np.array([resample.mean() for resample in resamples])\n",
    "print('Mean of re-samples\\' means: %s' % resample_means.mean())"
   ]
  },
  {
   "cell_type": "code",
   "execution_count": null,
   "metadata": {
    "collapsed": true,
    "jupyter": {
     "outputs_hidden": true
    }
   },
   "outputs": [],
   "source": []
  }
 ],
 "metadata": {
  "kernelspec": {
   "display_name": "Python 3 (ipykernel)",
   "language": "python",
   "name": "python3"
  },
  "language_info": {
   "codemirror_mode": {
    "name": "ipython",
    "version": 3
   },
   "file_extension": ".py",
   "mimetype": "text/x-python",
   "name": "python",
   "nbconvert_exporter": "python",
   "pygments_lexer": "ipython3",
   "version": "3.11.7"
  }
 },
 "nbformat": 4,
 "nbformat_minor": 4
}
