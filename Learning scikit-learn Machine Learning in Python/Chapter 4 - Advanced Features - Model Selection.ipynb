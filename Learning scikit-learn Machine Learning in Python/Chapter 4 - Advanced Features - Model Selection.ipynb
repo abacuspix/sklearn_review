{
 "cells": [
  {
   "cell_type": "markdown",
   "id": "a61c1480",
   "metadata": {},
   "source": [
    "# Learning Scikit-learn: Machine Learning in Python"
   ]
  },
  {
   "cell_type": "markdown",
   "id": "6e1a1df8",
   "metadata": {},
   "source": [
    "## Notebook for Chapter 4: Advanced Features - Model Selection"
   ]
  },
  {
   "cell_type": "code",
   "execution_count": 3,
   "id": "7214991a",
   "metadata": {
    "collapsed": false,
    "jupyter": {
     "outputs_hidden": false
    }
   },
   "outputs": [],
   "source": [
    "from sklearn.datasets import fetch_20newsgroups\n",
    "\n",
    "news = fetch_20newsgroups(subset='all')\n",
    "\n",
    "n_samples = 3000\n",
    "\n",
    "X = news.data[:n_samples]\n",
    "y = news.target[:n_samples]"
   ]
  },
  {
   "cell_type": "code",
   "execution_count": 5,
   "id": "9157cb8b",
   "metadata": {
    "collapsed": false,
    "jupyter": {
     "outputs_hidden": false
    }
   },
   "outputs": [],
   "source": [
    "from sklearn.naive_bayes import MultinomialNB\n",
    "from sklearn.pipeline import Pipeline\n",
    "from sklearn.feature_extraction.text import TfidfVectorizer"
   ]
  },
  {
   "cell_type": "code",
   "execution_count": 13,
   "id": "ea8cd3a8",
   "metadata": {
    "collapsed": false,
    "jupyter": {
     "outputs_hidden": false
    }
   },
   "outputs": [],
   "source": [
    "import os\n",
    "from sklearn.feature_extraction.text import TfidfVectorizer\n",
    "from sklearn.naive_bayes import MultinomialNB\n",
    "from sklearn.pipeline import Pipeline\n",
    "\n",
    "# Function to get stop words from a file\n",
    "def get_stop_words(file_path):\n",
    "    result = set()\n",
    "    with open(file_path, 'r', encoding='utf-8') as file:\n",
    "        for line in file.readlines():\n",
    "            result.add(line.strip())\n",
    "    return result\n",
    "\n",
    "# Ensure the stop words file exists\n",
    "stop_words_file = 'stopwords_en.txt'\n",
    "if not os.path.exists(stop_words_file):\n",
    "    raise FileNotFoundError(f\"The stop words file '{stop_words_file}' does not exist.\")\n",
    "\n",
    "stop_words = get_stop_words(stop_words_file)\n",
    "\n",
    "# Create a text classification pipeline\n",
    "clf = Pipeline([\n",
    "    ('vect', TfidfVectorizer(\n",
    "                stop_words=stop_words,\n",
    "                token_pattern=r\"\\b[a-z0-9_\\-\\.]+[a-z][a-z0-9_\\-\\.]+\\b\",  # Use r instead of ur\n",
    "    )),\n",
    "    ('nb', MultinomialNB(alpha=0.01)),\n",
    "])\n",
    "\n",
    "# Now clf can be used for training and predicting\n"
   ]
  },
  {
   "cell_type": "code",
   "execution_count": 19,
   "id": "73450355",
   "metadata": {
    "collapsed": false,
    "jupyter": {
     "outputs_hidden": false
    }
   },
   "outputs": [],
   "source": [
    "from sklearn.model_selection import cross_val_score, KFold\n",
    "from scipy.stats import sem\n",
    "import numpy as np\n",
    "\n",
    "def evaluate_cross_validation(clf, X, y, K):\n",
    "    # Create a KFold cross-validation iterator of K folds\n",
    "    cv = KFold(n_splits=K, shuffle=True, random_state=0)\n",
    "    # By default the score used is the one returned by the score method of the estimator (accuracy)\n",
    "    scores = cross_val_score(clf, X, y, cv=cv)\n",
    "    print(scores)\n",
    "    print(\"Mean score: {0:.3f} (+/- {1:.3f})\".format(np.mean(scores), sem(scores)))\n",
    "\n",
    "# Example usage (ensure clf, X, and y are defined before this):\n",
    "# evaluate_cross_validation(clf, X, y, 5)\n"
   ]
  },
  {
   "cell_type": "code",
   "execution_count": 6,
   "id": "495a179d",
   "metadata": {
    "collapsed": false,
    "jupyter": {
     "outputs_hidden": false
    }
   },
   "outputs": [
    {
     "name": "stdout",
     "output_type": "stream",
     "text": [
      "[ 0.812  0.808  0.822]\n",
      "Mean score: 0.814 (+/-0.004)\n"
     ]
    }
   ],
   "source": [
    "evaluate_cross_validation(clf, X, y, 3)"
   ]
  },
  {
   "cell_type": "code",
   "execution_count": 23,
   "id": "21f7130a",
   "metadata": {
    "collapsed": false,
    "jupyter": {
     "outputs_hidden": false
    }
   },
   "outputs": [],
   "source": [
    "def calc_params(X, y, clf, param_values, param_name, K):\n",
    "    # initialize training and testing scores with zeros\n",
    "    train_scores = np.zeros(len(param_values))\n",
    "    test_scores = np.zeros(len(param_values))\n",
    "    \n",
    "    # iterate over the different parameter values\n",
    "    for i, param_value in enumerate(param_values):\n",
    "        print(param_name, ' = ', param_value)\n",
    "        \n",
    "        # set classifier parameters\n",
    "        clf.set_params(**{param_name: param_value})\n",
    "        \n",
    "        # initialize the K scores obtained for each fold\n",
    "        k_train_scores = np.zeros(K)\n",
    "        k_test_scores = np.zeros(K)\n",
    "        \n",
    "        # create KFold cross validation\n",
    "        cv = KFold(n_splits=K, shuffle=True, random_state=0)\n",
    "        \n",
    "        # iterate over the K folds\n",
    "        for j, (train_index, test_index) in enumerate(cv.split(X)):\n",
    "            # fit the classifier in the corresponding fold\n",
    "            # and obtain the corresponding accuracy scores on train and test sets\n",
    "            clf.fit(X[train_index], y[train_index])\n",
    "            k_train_scores[j] = clf.score(X[train_index], y[train_index])\n",
    "            k_test_scores[j] = clf.score(X[test_index], y[test_index])\n",
    "            \n",
    "        # store the mean of the K fold scores\n",
    "        train_scores[i] = np.mean(k_train_scores)\n",
    "        test_scores[i] = np.mean(k_test_scores)\n",
    "       \n",
    "    # plot the training and testing scores in a log scale\n",
    "    plt.semilogx(param_values, train_scores, alpha=0.4, lw=2, c='b', label='Training score')\n",
    "    plt.semilogx(param_values, test_scores, alpha=0.4, lw=2, c='g', label='Testing score')\n",
    "    \n",
    "    plt.xlabel(param_name + \" values\")\n",
    "    plt.ylabel(\"Mean cross validation accuracy\")\n",
    "    plt.legend()\n",
    "    plt.show()\n",
    "\n",
    "    # return the training and testing scores on each parameter value\n",
    "    return train_scores, test_scores\n"
   ]
  },
  {
   "cell_type": "code",
   "execution_count": 27,
   "id": "82918fe7",
   "metadata": {
    "collapsed": false,
    "jupyter": {
     "outputs_hidden": false
    }
   },
   "outputs": [
    {
     "name": "stdout",
     "output_type": "stream",
     "text": [
      "[1.e-07 1.e-06 1.e-05 1.e-04 1.e-03 1.e-02 1.e-01 1.e+00]\n"
     ]
    }
   ],
   "source": [
    "alphas = np.logspace(-7, 0, 8)\n",
    "print (alphas)"
   ]
  },
  {
   "cell_type": "code",
   "execution_count": 33,
   "id": "3435189a",
   "metadata": {
    "collapsed": false,
    "jupyter": {
     "outputs_hidden": false
    }
   },
   "outputs": [
    {
     "name": "stdout",
     "output_type": "stream",
     "text": [
      "nb__alpha  =  0.001\n",
      "nb__alpha  =  0.0027825594022071257\n",
      "nb__alpha  =  0.007742636826811269\n",
      "nb__alpha  =  0.021544346900318832\n",
      "nb__alpha  =  0.05994842503189409\n",
      "nb__alpha  =  0.1668100537200059\n",
      "nb__alpha  =  0.46415888336127775\n",
      "nb__alpha  =  1.2915496650148828\n",
      "nb__alpha  =  3.593813663804626\n",
      "nb__alpha  =  10.0\n"
     ]
    },
    {
     "data": {
      "image/png": "[encoded data removed]",
      "text/plain": [
       "<Figure size 640x480 with 1 Axes>"
      ]
     },
     "metadata": {},
     "output_type": "display_data"
    },
    {
     "data": {
      "image/png": "[encoded data removed]"
     },
     "metadata": {},
     "output_type": "display_data"
    }
   ],
   "source": [
    "import numpy as np\n",
    "import matplotlib.pyplot as plt\n",
    "from sklearn.model_selection import KFold\n",
    "from sklearn.feature_extraction.text import TfidfVectorizer\n",
    "from sklearn.naive_bayes import MultinomialNB\n",
    "from sklearn.pipeline import Pipeline\n",
    "from sklearn.datasets import fetch_20newsgroups\n",
    "\n",
    "# Function to get stop words from a file\n",
    "def get_stop_words(file_path):\n",
    "    result = set()\n",
    "    with open(file_path, 'r', encoding='utf-8') as file:\n",
    "        for line in file.readlines():\n",
    "            result.add(line.strip())\n",
    "    return result\n",
    "\n",
    "# Ensure the stop words file exists\n",
    "stop_words_file = 'stopwords_en.txt'\n",
    "if not os.path.exists(stop_words_file):\n",
    "    raise FileNotFoundError(f\"The stop words file '{stop_words_file}' does not exist.\")\n",
    "\n",
    "stop_words = get_stop_words(stop_words_file)\n",
    "\n",
    "# Define the text classification pipeline\n",
    "clf = Pipeline([\n",
    "    ('vect', TfidfVectorizer(\n",
    "                stop_words=stop_words,\n",
    "                token_pattern=r\"\\b[a-z0-9_\\-\\.]+[a-z][a-z0-9_\\-\\.]+\\b\",\n",
    "    )),\n",
    "    ('nb', MultinomialNB()),\n",
    "])\n",
    "\n",
    "# Fetch some data (e.g., the 20 newsgroups dataset)\n",
    "newsgroups = fetch_20newsgroups(subset='all')\n",
    "X, y = newsgroups.data, newsgroups.target\n",
    "\n",
    "# Convert X to array form for compatibility with KFold\n",
    "X = np.array(X)\n",
    "\n",
    "# Define parameter values to test\n",
    "alphas = np.logspace(-3, 1, 10)\n",
    "\n",
    "# Function to calculate cross-validation scores for different parameter values\n",
    "def calc_params(X, y, clf, param_values, param_name, K):\n",
    "    # initialize training and testing scores with zeros\n",
    "    train_scores = np.zeros(len(param_values))\n",
    "    test_scores = np.zeros(len(param_values))\n",
    "    \n",
    "    # iterate over the different parameter values\n",
    "    for i, param_value in enumerate(param_values):\n",
    "        print(param_name, ' = ', param_value)\n",
    "        \n",
    "        # set classifier parameters\n",
    "        clf.set_params(**{param_name: param_value})\n",
    "        \n",
    "        # initialize the K scores obtained for each fold\n",
    "        k_train_scores = np.zeros(K)\n",
    "        k_test_scores = np.zeros(K)\n",
    "        \n",
    "        # create KFold cross validation\n",
    "        cv = KFold(n_splits=K, shuffle=True, random_state=0)\n",
    "        \n",
    "        # iterate over the K folds\n",
    "        for j, (train_index, test_index) in enumerate(cv.split(X)):\n",
    "            # fit the classifier in the corresponding fold\n",
    "            # and obtain the corresponding accuracy scores on train and test sets\n",
    "            clf.fit([X[k] for k in train_index], y[train_index])\n",
    "            k_train_scores[j] = clf.score([X[k] for k in train_index], y[train_index])\n",
    "            k_test_scores[j] = clf.score([X[k] for k in test_index], y[test_index])\n",
    "            \n",
    "        # store the mean of the K fold scores\n",
    "        train_scores[i] = np.mean(k_train_scores)\n",
    "        test_scores[i] = np.mean(k_test_scores)\n",
    "       \n",
    "    # plot the training and testing scores in a log scale\n",
    "    plt.semilogx(param_values, train_scores, alpha=0.4, lw=2, c='b', label='Training score')\n",
    "    plt.semilogx(param_values, test_scores, alpha=0.4, lw=2, c='g', label='Testing score')\n",
    "    \n",
    "    plt.xlabel(param_name + \" values\")\n",
    "    plt.ylabel(\"Mean cross validation accuracy\")\n",
    "    plt.legend()\n",
    "    plt.show()\n",
    "\n",
    "    # return the training and testing scores on each parameter value\n",
    "    return train_scores, test_scores\n",
    "\n",
    "# Evaluate cross-validation scores for different alpha values in the MultinomialNB classifier\n",
    "train_scores, test_scores = calc_params(X, y, clf, alphas, 'nb__alpha', 3)\n"
   ]
  },
  {
   "cell_type": "code",
   "execution_count": 32,
   "id": "3b6158f9",
   "metadata": {
    "collapsed": false,
    "jupyter": {
     "outputs_hidden": false
    }
   },
   "outputs": [
    {
     "name": "stdout",
     "output_type": "stream",
     "text": [
      "training scores:  [0.99856734 0.99824897 0.99758569 0.99583466 0.99214687 0.98278149\n",
      " 0.9692773  0.94807917 0.9187626  0.87923167]\n",
      "testing scores:  [0.91080335 0.91329725 0.91499522 0.91451767 0.9103258  0.90369309\n",
      " 0.89111748 0.87562347 0.85142736 0.81545155]\n"
     ]
    }
   ],
   "source": [
    "print ('training scores: ', train_scores)\n",
    "print ('testing scores: ', test_scores)"
   ]
  },
  {
   "cell_type": "code",
   "execution_count": null,
   "id": "e312e3ae",
   "metadata": {
    "collapsed": false,
    "jupyter": {
     "outputs_hidden": false
    }
   },
   "outputs": [
    {
     "name": "stdout",
     "output_type": "stream",
     "text": [
      "svc__C  =  0.01\n"
     ]
    }
   ],
   "source": [
    "import numpy as np\n",
    "import matplotlib.pyplot as plt\n",
    "from sklearn.model_selection import KFold\n",
    "from sklearn.feature_extraction.text import TfidfVectorizer\n",
    "from sklearn.svm import SVC\n",
    "from sklearn.pipeline import Pipeline\n",
    "from sklearn.datasets import fetch_20newsgroups\n",
    "\n",
    "# Function to get stop words from a file\n",
    "def get_stop_words(file_path):\n",
    "    result = set()\n",
    "    with open(file_path, 'r', encoding='utf-8') as file:\n",
    "        for line in file.readlines():\n",
    "            result.add(line.strip())\n",
    "    return result\n",
    "\n",
    "# Ensure the stop words file exists\n",
    "stop_words_file = 'stopwords_en.txt'\n",
    "if not os.path.exists(stop_words_file):\n",
    "    raise FileNotFoundError(f\"The stop words file '{stop_words_file}' does not exist.\")\n",
    "\n",
    "stop_words = get_stop_words(stop_words_file)\n",
    "\n",
    "# Define the text classification pipeline\n",
    "clf = Pipeline([\n",
    "    ('vect', TfidfVectorizer(\n",
    "                stop_words=stop_words,\n",
    "                token_pattern=r\"\\b[a-z0-9_\\-\\.]+[a-z][a-z0-9_\\-\\.]+\\b\",  # Use r instead of ur\n",
    "    )),\n",
    "    ('svc', SVC()),\n",
    "])\n",
    "\n",
    "# Fetch some data (e.g., the 20 newsgroups dataset)\n",
    "newsgroups = fetch_20newsgroups(subset='all')\n",
    "X, y = newsgroups.data, newsgroups.target\n",
    "\n",
    "# Convert X to array form for compatibility with KFold\n",
    "X = np.array(X)\n",
    "\n",
    "# Define parameter values to test\n",
    "Cs = np.logspace(-2, 2, 5)\n",
    "\n",
    "# Function to calculate cross-validation scores for different parameter values\n",
    "def calc_params(X, y, clf, param_values, param_name, K):\n",
    "    # initialize training and testing scores with zeros\n",
    "    train_scores = np.zeros(len(param_values))\n",
    "    test_scores = np.zeros(len(param_values))\n",
    "    \n",
    "    # iterate over the different parameter values\n",
    "    for i, param_value in enumerate(param_values):\n",
    "        print(param_name, ' = ', param_value)\n",
    "        \n",
    "        # set classifier parameters\n",
    "        clf.set_params(**{param_name: param_value})\n",
    "        \n",
    "        # initialize the K scores obtained for each fold\n",
    "        k_train_scores = np.zeros(K)\n",
    "        k_test_scores = np.zeros(K)\n",
    "        \n",
    "        # create KFold cross validation\n",
    "        cv = KFold(n_splits=K, shuffle=True, random_state=0)\n",
    "        \n",
    "        # iterate over the K folds\n",
    "        for j, (train_index, test_index) in enumerate(cv.split(X)):\n",
    "            # fit the classifier in the corresponding fold\n",
    "            # and obtain the corresponding accuracy scores on train and test sets\n",
    "            clf.fit([X[k] for k in train_index], y[train_index])\n",
    "            k_train_scores[j] = clf.score([X[k] for k in train_index], y[train_index])\n",
    "            k_test_scores[j] = clf.score([X[k] for k in test_index], y[test_index])\n",
    "            \n",
    "        # store the mean of the K fold scores\n",
    "        train_scores[i] = np.mean(k_train_scores)\n",
    "        test_scores[i] = np.mean(k_test_scores)\n",
    "       \n",
    "    # plot the training and testing scores in a log scale\n",
    "    plt.semilogx(param_values, train_scores, alpha=0.4, lw=2, c='b', label='Training score')\n",
    "    plt.semilogx(param_values, test_scores, alpha=0.4, lw=2, c='g', label='Testing score')\n",
    "    \n",
    "    plt.xlabel(param_name + \" values\")\n",
    "    plt.ylabel(\"Mean cross validation accuracy\")\n",
    "    plt.legend()\n",
    "    plt.show()\n",
    "\n",
    "    # return the training and testing scores on each parameter value\n",
    "    return train_scores, test_scores\n",
    "\n",
    "# Evaluate cross-validation scores for different C values in the SVC classifier\n",
    "train_scores, test_scores = calc_params(X, y, clf, Cs, 'svc__C', 3)\n"
   ]
  },
  {
   "cell_type": "code",
   "execution_count": null,
   "id": "0c45065d",
   "metadata": {
    "collapsed": false,
    "jupyter": {
     "outputs_hidden": false
    }
   },
   "outputs": [
    {
     "data": {
      "image/png": "[encoded data removed]"
     },
     "metadata": {},
     "output_type": "display_data"
    }
   ],
   "source": [
    "gammas = np.logspace(-2, 1, 4)\n",
    "\n",
    "train_scores, test_scores = calc_params(X, y, clf, gammas, 'svc__gamma', 3)"
   ]
  },
  {
   "cell_type": "code",
   "execution_count": 13,
   "id": "be923577",
   "metadata": {
    "collapsed": false,
    "jupyter": {
     "outputs_hidden": false
    }
   },
   "outputs": [
    {
     "name": "stdout",
     "output_type": "stream",
     "text": [
      "training scores:  [ 0.06183333  0.279       0.99966667  1.        ]\n",
      "testing scores:  [ 0.04866667  0.162       0.74666667  0.05166667]\n"
     ]
    }
   ],
   "source": [
    "print ('training scores: ', train_scores)\n",
    "print ('testing scores: ', test_scores)"
   ]
  },
  {
   "cell_type": "markdown",
   "id": "db2ea056",
   "metadata": {},
   "source": [
    "For gamma < 1 we have underfitting. For gamma > 1 we have overfitting. So here, the best result is for gamma = 1 where we obtain a training an accuracy of 0.999 and a testing accuracy of 0.760"
   ]
  },
  {
   "cell_type": "code",
   "execution_count": 14,
   "id": "1330db76",
   "metadata": {
    "collapsed": false,
    "jupyter": {
     "outputs_hidden": false
    }
   },
   "outputs": [],
   "source": [
    "from sklearn.grid_search import GridSearchCV\n",
    "\n",
    "parameters = {\n",
    "    'svc__gamma': np.logspace(-2, 1, 4),\n",
    "    'svc__C': np.logspace(-1, 1, 3),\n",
    "}\n",
    "\n",
    "clf = Pipeline([\n",
    "    ('vect', TfidfVectorizer(\n",
    "                stop_words=stop_words,\n",
    "                token_pattern=ur\"\\b[a-z0-9_\\-\\.]+[a-z][a-z0-9_\\-\\.]+\\b\",         \n",
    "    )),\n",
    "    ('svc', SVC()),\n",
    "])\n",
    "\n",
    "gs = GridSearchCV(clf, parameters, verbose=2, refit=False, cv=3)"
   ]
  },
  {
   "cell_type": "code",
   "execution_count": 15,
   "id": "3d66dbeb",
   "metadata": {
    "collapsed": false,
    "jupyter": {
     "outputs_hidden": false
    }
   },
   "outputs": [
    {
     "name": "stdout",
     "output_type": "stream",
     "text": [
      "Fitting 3 folds for each of 12 candidates, totalling 36 fits\n",
      "[GridSearchCV] svc__gamma=0.01, svc__C=0.1 .....................................\n",
      "[GridSearchCV] ............................ svc__gamma=0.01, svc__C=0.1 -   8.7s"
     ]
    },
    {
     "name": "stdout",
     "output_type": "stream",
     "text": [
      "\n",
      "[GridSearchCV] svc__gamma=0.01, svc__C=0.1 .....................................\n",
      "[GridSearchCV] ............................ svc__gamma=0.01, svc__C=0.1 -   8.6s"
     ]
    },
    {
     "name": "stdout",
     "output_type": "stream",
     "text": [
      "\n",
      "[GridSearchCV] svc__gamma=0.01, svc__C=0.1 .....................................\n",
      "[GridSearchCV] ............................ svc__gamma=0.01, svc__C=0.1 -   8.7s"
     ]
    },
    {
     "name": "stdout",
     "output_type": "stream",
     "text": [
      "\n",
      "[GridSearchCV] svc__gamma=0.1, svc__C=0.1 ......................................\n",
      "[GridSearchCV] ............................. svc__gamma=0.1, svc__C=0.1 -   8.7s"
     ]
    },
    {
     "name": "stdout",
     "output_type": "stream",
     "text": [
      "\n",
      "[GridSearchCV] svc__gamma=0.1, svc__C=0.1 ......................................\n",
      "[GridSearchCV] ............................. svc__gamma=0.1, svc__C=0.1 -   8.8s"
     ]
    },
    {
     "name": "stdout",
     "output_type": "stream",
     "text": [
      "\n",
      "[GridSearchCV] svc__gamma=0.1, svc__C=0.1 ......................................\n",
      "[GridSearchCV] ............................. svc__gamma=0.1, svc__C=0.1 -   8.5s"
     ]
    },
    {
     "name": "stdout",
     "output_type": "stream",
     "text": [
      "\n",
      "[GridSearchCV] svc__gamma=1.0, svc__C=0.1 ......................................\n",
      "[GridSearchCV] ............................. svc__gamma=1.0, svc__C=0.1 -   8.8s"
     ]
    },
    {
     "name": "stdout",
     "output_type": "stream",
     "text": [
      "\n",
      "[GridSearchCV] svc__gamma=1.0, svc__C=0.1 ......................................\n",
      "[GridSearchCV] ............................. svc__gamma=1.0, svc__C=0.1 -   8.7s"
     ]
    },
    {
     "name": "stdout",
     "output_type": "stream",
     "text": [
      "\n",
      "[GridSearchCV] svc__gamma=1.0, svc__C=0.1 ......................................\n",
      "[GridSearchCV] ............................. svc__gamma=1.0, svc__C=0.1 -   8.8s"
     ]
    },
    {
     "name": "stdout",
     "output_type": "stream",
     "text": [
      "\n",
      "[GridSearchCV] svc__gamma=10.0, svc__C=0.1 .....................................\n",
      "[GridSearchCV] ............................ svc__gamma=10.0, svc__C=0.1 -   9.0s"
     ]
    },
    {
     "name": "stdout",
     "output_type": "stream",
     "text": [
      "\n",
      "[GridSearchCV] svc__gamma=10.0, svc__C=0.1 .....................................\n",
      "[GridSearchCV] ............................ svc__gamma=10.0, svc__C=0.1 -   9.0s"
     ]
    },
    {
     "name": "stdout",
     "output_type": "stream",
     "text": [
      "\n",
      "[GridSearchCV] svc__gamma=10.0, svc__C=0.1 .....................................\n",
      "[GridSearchCV] ............................ svc__gamma=10.0, svc__C=0.1 -   8.9s"
     ]
    },
    {
     "name": "stdout",
     "output_type": "stream",
     "text": [
      "\n",
      "[GridSearchCV] svc__gamma=0.01, svc__C=1.0 .....................................\n",
      "[GridSearchCV] ............................ svc__gamma=0.01, svc__C=1.0 -   8.8s"
     ]
    },
    {
     "name": "stdout",
     "output_type": "stream",
     "text": [
      "\n",
      "[GridSearchCV] svc__gamma=0.01, svc__C=1.0 .....................................\n",
      "[GridSearchCV] ............................ svc__gamma=0.01, svc__C=1.0 -   8.6s"
     ]
    },
    {
     "name": "stdout",
     "output_type": "stream",
     "text": [
      "\n",
      "[GridSearchCV] svc__gamma=0.01, svc__C=1.0 .....................................\n",
      "[GridSearchCV] ............................ svc__gamma=0.01, svc__C=1.0 -   8.6s"
     ]
    },
    {
     "name": "stdout",
     "output_type": "stream",
     "text": [
      "\n",
      "[GridSearchCV] svc__gamma=0.1, svc__C=1.0 ......................................\n",
      "[GridSearchCV] ............................. svc__gamma=0.1, svc__C=1.0 -   8.7s"
     ]
    },
    {
     "name": "stdout",
     "output_type": "stream",
     "text": [
      "\n",
      "[GridSearchCV] svc__gamma=0.1, svc__C=1.0 ......................................\n",
      "[GridSearchCV] ............................. svc__gamma=0.1, svc__C=1.0 -   9.0s"
     ]
    },
    {
     "name": "stdout",
     "output_type": "stream",
     "text": [
      "\n",
      "[GridSearchCV] svc__gamma=0.1, svc__C=1.0 ......................................\n",
      "[GridSearchCV] ............................. svc__gamma=0.1, svc__C=1.0 -   8.5s"
     ]
    },
    {
     "name": "stdout",
     "output_type": "stream",
     "text": [
      "\n",
      "[GridSearchCV] svc__gamma=1.0, svc__C=1.0 ......................................\n",
      "[GridSearchCV] ............................. svc__gamma=1.0, svc__C=1.0 -   9.0s"
     ]
    },
    {
     "name": "stdout",
     "output_type": "stream",
     "text": [
      "\n",
      "[GridSearchCV] svc__gamma=1.0, svc__C=1.0 ......................................\n",
      "[GridSearchCV] ............................. svc__gamma=1.0, svc__C=1.0 -   9.0s"
     ]
    },
    {
     "name": "stdout",
     "output_type": "stream",
     "text": [
      "\n",
      "[GridSearchCV] svc__gamma=1.0, svc__C=1.0 ......................................\n",
      "[GridSearchCV] ............................. svc__gamma=1.0, svc__C=1.0 -   8.9s"
     ]
    },
    {
     "name": "stdout",
     "output_type": "stream",
     "text": [
      "\n",
      "[GridSearchCV] svc__gamma=10.0, svc__C=1.0 .....................................\n",
      "[GridSearchCV] ............................ svc__gamma=10.0, svc__C=1.0 -   9.4s"
     ]
    },
    {
     "name": "stdout",
     "output_type": "stream",
     "text": [
      "\n",
      "[GridSearchCV] svc__gamma=10.0, svc__C=1.0 .....................................\n",
      "[GridSearchCV] ............................ svc__gamma=10.0, svc__C=1.0 -   8.9s"
     ]
    },
    {
     "name": "stdout",
     "output_type": "stream",
     "text": [
      "\n",
      "[GridSearchCV] svc__gamma=10.0, svc__C=1.0 .....................................\n",
      "[GridSearchCV] ............................ svc__gamma=10.0, svc__C=1.0 -   8.7s"
     ]
    },
    {
     "name": "stdout",
     "output_type": "stream",
     "text": [
      "\n",
      "[GridSearchCV] svc__gamma=0.01, svc__C=10.0 ....................................\n",
      "[GridSearchCV] ........................... svc__gamma=0.01, svc__C=10.0 -   8.7s"
     ]
    },
    {
     "name": "stdout",
     "output_type": "stream",
     "text": [
      "\n",
      "[GridSearchCV] svc__gamma=0.01, svc__C=10.0 ....................................\n",
      "[GridSearchCV] ........................... svc__gamma=0.01, svc__C=10.0 -   8.6s"
     ]
    },
    {
     "name": "stdout",
     "output_type": "stream",
     "text": [
      "\n",
      "[GridSearchCV] svc__gamma=0.01, svc__C=10.0 ....................................\n",
      "[GridSearchCV] ........................... svc__gamma=0.01, svc__C=10.0 -   8.4s"
     ]
    },
    {
     "name": "stdout",
     "output_type": "stream",
     "text": [
      "\n",
      "[GridSearchCV] svc__gamma=0.1, svc__C=10.0 .....................................\n",
      "[GridSearchCV] ............................ svc__gamma=0.1, svc__C=10.0 -   8.8s"
     ]
    },
    {
     "name": "stdout",
     "output_type": "stream",
     "text": [
      "\n",
      "[GridSearchCV] svc__gamma=0.1, svc__C=10.0 .....................................\n",
      "[GridSearchCV] ............................ svc__gamma=0.1, svc__C=10.0 -   8.7s"
     ]
    },
    {
     "name": "stdout",
     "output_type": "stream",
     "text": [
      "\n",
      "[GridSearchCV] svc__gamma=0.1, svc__C=10.0 .....................................\n",
      "[GridSearchCV] ............................ svc__gamma=0.1, svc__C=10.0 -   8.5s"
     ]
    },
    {
     "name": "stdout",
     "output_type": "stream",
     "text": [
      "\n",
      "[GridSearchCV] svc__gamma=1.0, svc__C=10.0 .....................................\n",
      "[GridSearchCV] ............................ svc__gamma=1.0, svc__C=10.0 -   9.0s"
     ]
    },
    {
     "name": "stdout",
     "output_type": "stream",
     "text": [
      "\n",
      "[GridSearchCV] svc__gamma=1.0, svc__C=10.0 .....................................\n",
      "[GridSearchCV] ............................ svc__gamma=1.0, svc__C=10.0 -   8.8s"
     ]
    },
    {
     "name": "stdout",
     "output_type": "stream",
     "text": [
      "\n",
      "[GridSearchCV] svc__gamma=1.0, svc__C=10.0 .....................................\n",
      "[GridSearchCV] ............................ svc__gamma=1.0, svc__C=10.0 -   8.7s"
     ]
    },
    {
     "name": "stdout",
     "output_type": "stream",
     "text": [
      "\n",
      "[GridSearchCV] svc__gamma=10.0, svc__C=10.0 ....................................\n",
      "[GridSearchCV] ........................... svc__gamma=10.0, svc__C=10.0 -   9.1s"
     ]
    },
    {
     "name": "stdout",
     "output_type": "stream",
     "text": [
      "\n",
      "[GridSearchCV] svc__gamma=10.0, svc__C=10.0 ....................................\n",
      "[GridSearchCV] ........................... svc__gamma=10.0, svc__C=10.0 -   8.9s"
     ]
    },
    {
     "name": "stdout",
     "output_type": "stream",
     "text": [
      "\n",
      "[GridSearchCV] svc__gamma=10.0, svc__C=10.0 ....................................\n",
      "[GridSearchCV] ........................... svc__gamma=10.0, svc__C=10.0 -   8.8s"
     ]
    },
    {
     "name": "stderr",
     "output_type": "stream",
     "text": [
      "[Parallel(n_jobs=1)]: Done   1 jobs       | elapsed:    8.7s\n",
      "[Parallel(n_jobs=1)]: Done  36 out of  36 | elapsed:  5.3min finished\n"
     ]
    },
    {
     "name": "stdout",
     "output_type": "stream",
     "text": [
      "\n",
      "CPU times: user 315.62 s, sys: 0.44 s, total: 316.06 s\n",
      "Wall time: 316.89 s\n"
     ]
    },
    {
     "data": {
      "text/plain": [
       "({'svc__C': 10.0, 'svc__gamma': 0.10000000000000001}, 0.82799999999999996)"
      ]
     },
     "execution_count": 15,
     "metadata": {},
     "output_type": "execute_result"
    }
   ],
   "source": [
    "%time _ = gs.fit(X, y)\n",
    "\n",
    "gs.best_params_, gs.best_score_"
   ]
  },
  {
   "cell_type": "markdown",
   "id": "3adaf11a",
   "metadata": {},
   "source": [
    "With the grid search we obtained a better combination of C and gamma parameters, for values 10.0 and 0.10 respectively, we obtained a 3-fold cross validation accuracy of 0.828 much better than the best value we obtained (0.76) in the previous experiment by only adjusting gamma and keeeping C value at 1.0."
   ]
  },
  {
   "cell_type": "markdown",
   "id": "d569c631",
   "metadata": {},
   "source": [
    "We could continue trying to improve the results by also adjusting the vectorizer parameters in the grid search."
   ]
  },
  {
   "cell_type": "markdown",
   "id": "73f8a244",
   "metadata": {},
   "source": [
    "# Parallelizing"
   ]
  },
  {
   "cell_type": "markdown",
   "id": "1c6f34fa",
   "metadata": {},
   "source": [
    "First we will declare a function that will persist all the K folds for the cross validation in different files. These files will be loaded by a process that will execute the corresponding fold:"
   ]
  },
  {
   "cell_type": "code",
   "execution_count": 16,
   "id": "93110f26",
   "metadata": {
    "collapsed": false,
    "jupyter": {
     "outputs_hidden": false
    }
   },
   "outputs": [],
   "source": [
    "from sklearn.externals import joblib\n",
    "from sklearn.cross_validation import ShuffleSplit\n",
    "import os\n",
    "\n",
    "def persist_cv_splits(X, y, K=3, name='data', suffix=\"_cv_%03d.pkl\"):\n",
    "    \"\"\"Dump K folds to filesystem.\"\"\"\n",
    "    \n",
    "    cv_split_filenames = []\n",
    "    \n",
    "    # create KFold cross validation\n",
    "    cv = KFold(n_samples, K, shuffle=True, random_state=0)\n",
    "    \n",
    "    # iterate over the K folds\n",
    "    for i, (train, test) in enumerate(cv):\n",
    "        cv_fold = ([X[k] for k in train], y[train], [X[k] for k in test], y[test])\n",
    "        cv_split_filename = name + suffix % i\n",
    "        cv_split_filename = os.path.abspath(cv_split_filename)\n",
    "        joblib.dump(cv_fold, cv_split_filename)\n",
    "        cv_split_filenames.append(cv_split_filename)\n",
    "    \n",
    "    return cv_split_filenames"
   ]
  },
  {
   "cell_type": "code",
   "execution_count": 17,
   "id": "01519d22",
   "metadata": {
    "collapsed": false,
    "jupyter": {
     "outputs_hidden": false
    }
   },
   "outputs": [],
   "source": [
    "cv_filenames = persist_cv_splits(X, y, name='news')"
   ]
  },
  {
   "cell_type": "markdown",
   "id": "1e693411",
   "metadata": {},
   "source": [
    "The following function loads a particular fold and fits the classifier with the specified parameters set. Finally returns the testing score. This function will be called bye each of the parallel processes:"
   ]
  },
  {
   "cell_type": "code",
   "execution_count": 18,
   "id": "dafa6ef8",
   "metadata": {
    "collapsed": false,
    "jupyter": {
     "outputs_hidden": false
    }
   },
   "outputs": [],
   "source": [
    "def compute_evaluation(cv_split_filename, clf, params):\n",
    "    \n",
    "    # All module imports should be executed in the worker namespace\n",
    "    from sklearn.externals import joblib\n",
    "\n",
    "    # load the fold training and testing partitions from the filesystem\n",
    "    X_train, y_train, X_test, y_test = joblib.load(\n",
    "        cv_split_filename, mmap_mode='c')\n",
    "    \n",
    "    clf.set_params(**params)\n",
    "    clf.fit(X_train, y_train)\n",
    "    test_score = clf.score(X_test, y_test)\n",
    "    return test_score"
   ]
  },
  {
   "cell_type": "markdown",
   "id": "f9f1164e",
   "metadata": {},
   "source": [
    "This function executes the grid search in parallel processes. For each of the parameter combination (returned by the IterGrid iterator), it iterates over the K folds and creates a process to compute the evaluation. It returns the parameter combinations alongside with the tasks list: "
   ]
  },
  {
   "cell_type": "code",
   "execution_count": 19,
   "id": "ec70b89c",
   "metadata": {
    "collapsed": false,
    "jupyter": {
     "outputs_hidden": false
    }
   },
   "outputs": [],
   "source": [
    "from sklearn.grid_search import IterGrid\n",
    "\n",
    "def parallel_grid_search(lb_view, clf, cv_split_filenames, param_grid):\n",
    "    \n",
    "    all_tasks = []\n",
    "    all_parameters = list(IterGrid(param_grid))\n",
    "    \n",
    "    # iterate over parameter combinations\n",
    "    for i, params in enumerate(all_parameters):\n",
    "        task_for_params = []\n",
    "        \n",
    "        # iterate over the K folds\n",
    "        for j, cv_split_filename in enumerate(cv_split_filenames):    \n",
    "            t = lb_view.apply(\n",
    "                compute_evaluation, cv_split_filename, clf, params)\n",
    "            task_for_params.append(t) \n",
    "        \n",
    "        all_tasks.append(task_for_params)\n",
    "        \n",
    "    return all_parameters, all_tasks"
   ]
  },
  {
   "cell_type": "raw",
   "id": "7e6b8b81",
   "metadata": {},
   "source": [
    "Now we use IPython parallel to get the client and a load balanced view. We must first create a local cluster of N engines by using the Cluster tab in the IPython notebook. Then we create the client, the view and execute our parallel_grid_search function:"
   ]
  },
  {
   "cell_type": "code",
   "execution_count": 21,
   "id": "ad5b6beb",
   "metadata": {
    "collapsed": false,
    "jupyter": {
     "outputs_hidden": false
    }
   },
   "outputs": [
    {
     "name": "stderr",
     "output_type": "stream",
     "text": [
      "/home/raul/envs/sklearn_book/lib/python2.7/site-packages/sklearn/grid_search.py:148: DeprecationWarning: IterGrid was renamed to ParameterGrid and will be removed in 0.15.\n",
      "  \" removed in 0.15.\", DeprecationWarning)\n"
     ]
    }
   ],
   "source": [
    "from sklearn.svm import SVC\n",
    "from IPython.parallel import Client\n",
    "\n",
    "client = Client()\n",
    "lb_view = client.load_balanced_view()\n",
    "\n",
    "all_parameters, all_tasks = parallel_grid_search(\n",
    "   lb_view, clf, cv_filenames, parameters)"
   ]
  },
  {
   "cell_type": "code",
   "execution_count": 22,
   "id": "cb0c87e2",
   "metadata": {
    "collapsed": false,
    "jupyter": {
     "outputs_hidden": false
    }
   },
   "outputs": [],
   "source": [
    "def print_progress(tasks):\n",
    "    progress = np.mean([task.ready() for task_group in tasks\n",
    "                                 for task in task_group])\n",
    "    print \"Tasks completed: {0}%\".format(100 * progress)"
   ]
  },
  {
   "cell_type": "code",
   "execution_count": 40,
   "id": "339336b8",
   "metadata": {
    "collapsed": false,
    "jupyter": {
     "outputs_hidden": false
    }
   },
   "outputs": [
    {
     "name": "stdout",
     "output_type": "stream",
     "text": [
      "Tasks completed: 100.0%\n"
     ]
    }
   ],
   "source": [
    "print_progress(all_tasks)"
   ]
  },
  {
   "cell_type": "code",
   "execution_count": 41,
   "id": "da603257",
   "metadata": {
    "collapsed": false,
    "jupyter": {
     "outputs_hidden": false
    }
   },
   "outputs": [],
   "source": [
    "def find_bests(all_parameters, all_tasks, n_top=5):\n",
    "    \"\"\"Compute the mean score of the completed tasks\"\"\"\n",
    "    mean_scores = []\n",
    "    \n",
    "    for param, task_group in zip(all_parameters, all_tasks):\n",
    "        scores = [t.get() for t in task_group if t.ready()]\n",
    "        if len(scores) == 0:\n",
    "            continue\n",
    "        mean_scores.append((np.mean(scores), param))\n",
    "                   \n",
    "    return sorted(mean_scores, reverse=True)[:n_top]"
   ]
  },
  {
   "cell_type": "code",
   "execution_count": 42,
   "id": "4848fa53",
   "metadata": {
    "collapsed": false,
    "jupyter": {
     "outputs_hidden": false
    }
   },
   "outputs": [
    {
     "name": "stdout",
     "output_type": "stream",
     "text": [
      "[(0.82633333333333336, {'svc__gamma': 0.10000000000000001, 'svc__C': 10.0}), (0.78866666666666674, {'svc__gamma': 1.0, 'svc__C': 10.0}), (0.7466666666666667, {'svc__gamma': 1.0, 'svc__C': 1.0}), (0.23333333333333336, {'svc__gamma': 0.01, 'svc__C': 10.0}), (0.16200000000000001, {'svc__gamma': 0.10000000000000001, 'svc__C': 1.0})]\n"
     ]
    }
   ],
   "source": [
    "print find_bests(all_parameters, all_tasks)"
   ]
  },
  {
   "cell_type": "code",
   "execution_count": null,
   "id": "6b0310f9",
   "metadata": {
    "collapsed": false,
    "jupyter": {
     "outputs_hidden": false
    }
   },
   "outputs": [],
   "source": []
  }
 ],
 "metadata": {
  "kernelspec": {
   "display_name": "Python 3 (ipykernel)",
   "language": "python",
   "name": "python3"
  },
  "language_info": {
   "codemirror_mode": {
    "name": "ipython",
    "version": 3
   },
   "file_extension": ".py",
   "mimetype": "text/x-python",
   "name": "python",
   "nbconvert_exporter": "python",
   "pygments_lexer": "ipython3",
   "version": "3.11.7"
  }
 },
 "nbformat": 4,
 "nbformat_minor": 5
}
