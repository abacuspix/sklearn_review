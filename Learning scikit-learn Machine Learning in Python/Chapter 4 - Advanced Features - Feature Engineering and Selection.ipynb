{
 "cells": [
  {
   "cell_type": "markdown",
   "id": "a0e3cd83",
   "metadata": {},
   "source": [
    "# Learning Scikit-learn: Machine Learning in Python"
   ]
  },
  {
   "cell_type": "markdown",
   "id": "29176085",
   "metadata": {},
   "source": [
    "## Notebook for Chapter 4: Advanced Features  - Feature Engineering and Selection"
   ]
  },
  {
   "cell_type": "code",
   "execution_count": 1,
   "id": "ae4ef06a",
   "metadata": {
    "collapsed": false,
    "jupyter": {
     "outputs_hidden": false
    }
   },
   "outputs": [],
   "source": [
    "import pandas as pd\n",
    "import numpy as np\n",
    "import matplotlib.pyplot as plt"
   ]
  },
  {
   "cell_type": "markdown",
   "id": "f36ddc00",
   "metadata": {},
   "source": [
    "## Import titanic data using pandas"
   ]
  },
  {
   "cell_type": "code",
   "execution_count": 4,
   "id": "a3f13e2a",
   "metadata": {
    "collapsed": false,
    "jupyter": {
     "outputs_hidden": false
    }
   },
   "outputs": [
    {
     "name": "stdout",
     "output_type": "stream",
     "text": [
      "      row.names pclass  survived  \\\n",
      "0             1    1st         1   \n",
      "1             2    1st         0   \n",
      "2             3    1st         0   \n",
      "3             4    1st         0   \n",
      "4             5    1st         1   \n",
      "...         ...    ...       ...   \n",
      "1308       1309    3rd         0   \n",
      "1309       1310    3rd         0   \n",
      "1310       1311    3rd         0   \n",
      "1311       1312    3rd         0   \n",
      "1312       1313    3rd         0   \n",
      "\n",
      "                                                 name      age     embarked  \\\n",
      "0                        Allen, Miss Elisabeth Walton  29.0000  Southampton   \n",
      "1                         Allison, Miss Helen Loraine   2.0000  Southampton   \n",
      "2                 Allison, Mr Hudson Joshua Creighton  30.0000  Southampton   \n",
      "3     Allison, Mrs Hudson J.C. (Bessie Waldo Daniels)  25.0000  Southampton   \n",
      "4                       Allison, Master Hudson Trevor   0.9167  Southampton   \n",
      "...                                               ...      ...          ...   \n",
      "1308                               Zakarian, Mr Artun      NaN          NaN   \n",
      "1309                           Zakarian, Mr Maprieder      NaN          NaN   \n",
      "1310                                  Zenn, Mr Philip      NaN          NaN   \n",
      "1311                                    Zievens, Rene      NaN          NaN   \n",
      "1312                                   Zimmerman, Leo      NaN          NaN   \n",
      "\n",
      "                            home.dest room      ticket   boat     sex  \n",
      "0                        St Louis, MO  B-5  24160 L221      2  female  \n",
      "1     Montreal, PQ / Chesterville, ON  C26         NaN    NaN  female  \n",
      "2     Montreal, PQ / Chesterville, ON  C26         NaN  (135)    male  \n",
      "3     Montreal, PQ / Chesterville, ON  C26         NaN    NaN  female  \n",
      "4     Montreal, PQ / Chesterville, ON  C22         NaN     11    male  \n",
      "...                               ...  ...         ...    ...     ...  \n",
      "1308                              NaN  NaN         NaN    NaN    male  \n",
      "1309                              NaN  NaN         NaN    NaN    male  \n",
      "1310                              NaN  NaN         NaN    NaN    male  \n",
      "1311                              NaN  NaN         NaN    NaN  female  \n",
      "1312                              NaN  NaN         NaN    NaN    male  \n",
      "\n",
      "[1313 rows x 11 columns]\n"
     ]
    }
   ],
   "source": [
    "titanic = pd.read_csv('data/titanic.csv')\n",
    "print (titanic)"
   ]
  },
  {
   "cell_type": "code",
   "execution_count": 6,
   "id": "425f1d30",
   "metadata": {
    "collapsed": false,
    "jupyter": {
     "outputs_hidden": false
    }
   },
   "outputs": [
    {
     "name": "stdout",
     "output_type": "stream",
     "text": [
      "  pclass  survived      age     embarked   boat     sex\n",
      "0    1st         1  29.0000  Southampton      2  female\n",
      "1    1st         0   2.0000  Southampton    NaN  female\n",
      "2    1st         0  30.0000  Southampton  (135)    male\n",
      "3    1st         0  25.0000  Southampton    NaN  female\n",
      "4    1st         1   0.9167  Southampton     11    male\n"
     ]
    }
   ],
   "source": [
    "print (titanic.head()[['pclass', 'survived', 'age', 'embarked', 'boat', 'sex']])\n"
   ]
  },
  {
   "cell_type": "code",
   "execution_count": 8,
   "id": "90ed6169",
   "metadata": {
    "collapsed": false,
    "jupyter": {
     "outputs_hidden": false
    }
   },
   "outputs": [
    {
     "data": {
      "text/html": [
       "<div>\n",
       "<style scoped>\n",
       "    .dataframe tbody tr th:only-of-type {\n",
       "        vertical-align: middle;\n",
       "    }\n",
       "\n",
       "    .dataframe tbody tr th {\n",
       "        vertical-align: top;\n",
       "    }\n",
       "\n",
       "    .dataframe thead th {\n",
       "        text-align: right;\n",
       "    }\n",
       "</style>\n",
       "<table border=\"1\" class=\"dataframe\">\n",
       "  <thead>\n",
       "    <tr style=\"text-align: right;\">\n",
       "      <th></th>\n",
       "      <th>row.names</th>\n",
       "      <th>survived</th>\n",
       "      <th>age</th>\n",
       "    </tr>\n",
       "  </thead>\n",
       "  <tbody>\n",
       "    <tr>\n",
       "      <th>count</th>\n",
       "      <td>1313.000000</td>\n",
       "      <td>1313.000000</td>\n",
       "      <td>633.000000</td>\n",
       "    </tr>\n",
       "    <tr>\n",
       "      <th>mean</th>\n",
       "      <td>657.000000</td>\n",
       "      <td>0.341965</td>\n",
       "      <td>31.194181</td>\n",
       "    </tr>\n",
       "    <tr>\n",
       "      <th>std</th>\n",
       "      <td>379.174762</td>\n",
       "      <td>0.474549</td>\n",
       "      <td>14.747525</td>\n",
       "    </tr>\n",
       "    <tr>\n",
       "      <th>min</th>\n",
       "      <td>1.000000</td>\n",
       "      <td>0.000000</td>\n",
       "      <td>0.166700</td>\n",
       "    </tr>\n",
       "    <tr>\n",
       "      <th>25%</th>\n",
       "      <td>329.000000</td>\n",
       "      <td>0.000000</td>\n",
       "      <td>21.000000</td>\n",
       "    </tr>\n",
       "    <tr>\n",
       "      <th>50%</th>\n",
       "      <td>657.000000</td>\n",
       "      <td>0.000000</td>\n",
       "      <td>30.000000</td>\n",
       "    </tr>\n",
       "    <tr>\n",
       "      <th>75%</th>\n",
       "      <td>985.000000</td>\n",
       "      <td>1.000000</td>\n",
       "      <td>41.000000</td>\n",
       "    </tr>\n",
       "    <tr>\n",
       "      <th>max</th>\n",
       "      <td>1313.000000</td>\n",
       "      <td>1.000000</td>\n",
       "      <td>71.000000</td>\n",
       "    </tr>\n",
       "  </tbody>\n",
       "</table>\n",
       "</div>"
      ],
      "text/plain": [
       "         row.names     survived         age\n",
       "count  1313.000000  1313.000000  633.000000\n",
       "mean    657.000000     0.341965   31.194181\n",
       "std     379.174762     0.474549   14.747525\n",
       "min       1.000000     0.000000    0.166700\n",
       "25%     329.000000     0.000000   21.000000\n",
       "50%     657.000000     0.000000   30.000000\n",
       "75%     985.000000     1.000000   41.000000\n",
       "max    1313.000000     1.000000   71.000000"
      ]
     },
     "execution_count": 8,
     "metadata": {},
     "output_type": "execute_result"
    }
   ],
   "source": [
    "titanic.describe()"
   ]
  },
  {
   "cell_type": "markdown",
   "id": "f88d211b",
   "metadata": {},
   "source": [
    "## Feature extraction"
   ]
  },
  {
   "cell_type": "markdown",
   "id": "f48bc1b0",
   "metadata": {},
   "source": [
    "Convert categorical features to 1-of-k using _DictVectorizer()_"
   ]
  },
  {
   "cell_type": "code",
   "execution_count": 12,
   "id": "446de7e0",
   "metadata": {
    "collapsed": false,
    "jupyter": {
     "outputs_hidden": false
    }
   },
   "outputs": [
    {
     "name": "stdout",
     "output_type": "stream",
     "text": [
      "   embarked=C  embarked=Q  embarked=S  pclass  sex=female  sex=male\n",
      "0         0.0         0.0         1.0     1.0         0.0       1.0\n",
      "1         1.0         0.0         0.0     3.0         1.0       0.0\n",
      "2         0.0         1.0         0.0     2.0         1.0       0.0\n",
      "3         0.0         0.0         1.0     1.0         0.0       1.0\n",
      "4         0.0         0.0         1.0     3.0         0.0       1.0\n",
      "   embarked=C  embarked=Q  embarked=S  pclass  sex=female  sex=male\n",
      "0         0.0         0.0         1.0     1.0         0.0       1.0\n",
      "1         1.0         0.0         0.0     3.0         1.0       0.0\n",
      "2         0.0         1.0         0.0     2.0         1.0       0.0\n",
      "3         0.0         0.0         1.0     1.0         0.0       1.0\n",
      "4         0.0         0.0         1.0     3.0         0.0       1.0\n"
     ]
    }
   ],
   "source": [
    "import pandas as pd\n",
    "from sklearn import feature_extraction\n",
    "\n",
    "# Define the one-hot encoding function\n",
    "def one_hot_dataframe(data, cols, replace=False):\n",
    "    vec = feature_extraction.DictVectorizer()\n",
    "    mkdict = lambda row: dict((col, row[col]) for col in cols)\n",
    "    vecData = pd.DataFrame(vec.fit_transform(data[cols].apply(mkdict, axis=1)).toarray())\n",
    "    vecData.columns = vec.get_feature_names_out()\n",
    "    vecData.index = data.index\n",
    "    if replace:\n",
    "        data = data.drop(cols, axis=1)\n",
    "        data = data.join(vecData)\n",
    "    return (data, vecData)\n",
    "\n",
    "# Sample titanic DataFrame for illustration\n",
    "titanic_data = {\n",
    "    'pclass': [1, 3, 2, 1, 3],\n",
    "    'embarked': ['S', 'C', 'Q', 'S', 'S'],\n",
    "    'sex': ['male', 'female', 'female', 'male', 'male']\n",
    "}\n",
    "titanic = pd.DataFrame(titanic_data)\n",
    "\n",
    "# Apply the one-hot encoding function\n",
    "titanic, titanic_n = one_hot_dataframe(titanic, ['pclass', 'embarked', 'sex'], replace=True)\n",
    "\n",
    "# Display the transformed DataFrame\n",
    "print(titanic)\n",
    "print(titanic_n)\n",
    "\n"
   ]
  },
  {
   "cell_type": "code",
   "execution_count": 14,
   "id": "87f6c2f5",
   "metadata": {
    "collapsed": false,
    "jupyter": {
     "outputs_hidden": false
    }
   },
   "outputs": [
    {
     "data": {
      "text/html": [
       "<div>\n",
       "<style scoped>\n",
       "    .dataframe tbody tr th:only-of-type {\n",
       "        vertical-align: middle;\n",
       "    }\n",
       "\n",
       "    .dataframe tbody tr th {\n",
       "        vertical-align: top;\n",
       "    }\n",
       "\n",
       "    .dataframe thead th {\n",
       "        text-align: right;\n",
       "    }\n",
       "</style>\n",
       "<table border=\"1\" class=\"dataframe\">\n",
       "  <thead>\n",
       "    <tr style=\"text-align: right;\">\n",
       "      <th></th>\n",
       "      <th>embarked=C</th>\n",
       "      <th>embarked=Q</th>\n",
       "      <th>embarked=S</th>\n",
       "      <th>pclass</th>\n",
       "      <th>sex=female</th>\n",
       "      <th>sex=male</th>\n",
       "    </tr>\n",
       "  </thead>\n",
       "  <tbody>\n",
       "    <tr>\n",
       "      <th>count</th>\n",
       "      <td>5.000000</td>\n",
       "      <td>5.000000</td>\n",
       "      <td>5.000000</td>\n",
       "      <td>5.0</td>\n",
       "      <td>5.000000</td>\n",
       "      <td>5.000000</td>\n",
       "    </tr>\n",
       "    <tr>\n",
       "      <th>mean</th>\n",
       "      <td>0.200000</td>\n",
       "      <td>0.200000</td>\n",
       "      <td>0.600000</td>\n",
       "      <td>2.0</td>\n",
       "      <td>0.400000</td>\n",
       "      <td>0.600000</td>\n",
       "    </tr>\n",
       "    <tr>\n",
       "      <th>std</th>\n",
       "      <td>0.447214</td>\n",
       "      <td>0.447214</td>\n",
       "      <td>0.547723</td>\n",
       "      <td>1.0</td>\n",
       "      <td>0.547723</td>\n",
       "      <td>0.547723</td>\n",
       "    </tr>\n",
       "    <tr>\n",
       "      <th>min</th>\n",
       "      <td>0.000000</td>\n",
       "      <td>0.000000</td>\n",
       "      <td>0.000000</td>\n",
       "      <td>1.0</td>\n",
       "      <td>0.000000</td>\n",
       "      <td>0.000000</td>\n",
       "    </tr>\n",
       "    <tr>\n",
       "      <th>25%</th>\n",
       "      <td>0.000000</td>\n",
       "      <td>0.000000</td>\n",
       "      <td>0.000000</td>\n",
       "      <td>1.0</td>\n",
       "      <td>0.000000</td>\n",
       "      <td>0.000000</td>\n",
       "    </tr>\n",
       "    <tr>\n",
       "      <th>50%</th>\n",
       "      <td>0.000000</td>\n",
       "      <td>0.000000</td>\n",
       "      <td>1.000000</td>\n",
       "      <td>2.0</td>\n",
       "      <td>0.000000</td>\n",
       "      <td>1.000000</td>\n",
       "    </tr>\n",
       "    <tr>\n",
       "      <th>75%</th>\n",
       "      <td>0.000000</td>\n",
       "      <td>0.000000</td>\n",
       "      <td>1.000000</td>\n",
       "      <td>3.0</td>\n",
       "      <td>1.000000</td>\n",
       "      <td>1.000000</td>\n",
       "    </tr>\n",
       "    <tr>\n",
       "      <th>max</th>\n",
       "      <td>1.000000</td>\n",
       "      <td>1.000000</td>\n",
       "      <td>1.000000</td>\n",
       "      <td>3.0</td>\n",
       "      <td>1.000000</td>\n",
       "      <td>1.000000</td>\n",
       "    </tr>\n",
       "  </tbody>\n",
       "</table>\n",
       "</div>"
      ],
      "text/plain": [
       "       embarked=C  embarked=Q  embarked=S  pclass  sex=female  sex=male\n",
       "count    5.000000    5.000000    5.000000     5.0    5.000000  5.000000\n",
       "mean     0.200000    0.200000    0.600000     2.0    0.400000  0.600000\n",
       "std      0.447214    0.447214    0.547723     1.0    0.547723  0.547723\n",
       "min      0.000000    0.000000    0.000000     1.0    0.000000  0.000000\n",
       "25%      0.000000    0.000000    0.000000     1.0    0.000000  0.000000\n",
       "50%      0.000000    0.000000    1.000000     2.0    0.000000  1.000000\n",
       "75%      0.000000    0.000000    1.000000     3.0    1.000000  1.000000\n",
       "max      1.000000    1.000000    1.000000     3.0    1.000000  1.000000"
      ]
     },
     "execution_count": 14,
     "metadata": {},
     "output_type": "execute_result"
    }
   ],
   "source": [
    "titanic.describe()"
   ]
  },
  {
   "cell_type": "markdown",
   "id": "d48bcd81",
   "metadata": {},
   "source": [
    "What does the 'embarked' feature has?"
   ]
  },
  {
   "cell_type": "code",
   "execution_count": 17,
   "id": "17aede03",
   "metadata": {
    "collapsed": false,
    "jupyter": {
     "outputs_hidden": false
    }
   },
   "outputs": [
    {
     "name": "stdout",
     "output_type": "stream",
     "text": [
      "   embarked=C  embarked=Q  embarked=S  pclass  sex=female  sex=male\n",
      "0         0.0         0.0         1.0     1.0         0.0       1.0\n",
      "1         1.0         0.0         0.0     3.0         1.0       0.0\n",
      "2         0.0         1.0         0.0     2.0         1.0       0.0\n",
      "3         0.0         0.0         1.0     1.0         0.0       1.0\n",
      "4         0.0         0.0         1.0     3.0         0.0       1.0\n",
      "   embarked=C  embarked=Q  embarked=S  pclass  sex=female  sex=male\n",
      "0         0.0         0.0         1.0     1.0         0.0       1.0\n",
      "1         1.0         0.0         0.0     3.0         1.0       0.0\n",
      "2         0.0         1.0         0.0     2.0         1.0       0.0\n",
      "3         0.0         0.0         1.0     1.0         0.0       1.0\n",
      "4         0.0         0.0         1.0     3.0         0.0       1.0\n"
     ]
    }
   ],
   "source": [
    "import pandas as pd\n",
    "from sklearn import feature_extraction\n",
    "\n",
    "# Define the one-hot encoding function\n",
    "def one_hot_dataframe(data, cols, replace=False):\n",
    "    vec = feature_extraction.DictVectorizer()\n",
    "    mkdict = lambda row: dict((col, row[col]) for col in cols)\n",
    "    vecData = pd.DataFrame(vec.fit_transform(data[cols].apply(mkdict, axis=1)).toarray())\n",
    "    vecData.columns = vec.get_feature_names_out()\n",
    "    vecData.index = data.index\n",
    "    if replace:\n",
    "        data = data.drop(cols, axis=1)\n",
    "        data = data.join(vecData)\n",
    "    return (data, vecData)\n",
    "\n",
    "# Sample titanic DataFrame for illustration\n",
    "titanic_data = {\n",
    "    'pclass': [1, 3, 2, 1, 3],\n",
    "    'embarked': ['S', 'C', 'Q', 'S', 'S'],\n",
    "    'sex': ['male', 'female', 'female', 'male', 'male']\n",
    "}\n",
    "titanic = pd.DataFrame(titanic_data)\n",
    "\n",
    "# Apply the one-hot encoding function\n",
    "titanic, titanic_n = one_hot_dataframe(titanic, ['pclass', 'embarked', 'sex'], replace=True)\n",
    "\n",
    "# Print the first 5 rows of the one-hot encoded DataFrame\n",
    "print(titanic_n.head(5))\n",
    "\n",
    "# Filter and print rows where the column 'embarked' is not equal to 0\n",
    "# Note: we need to use the specific one-hot encoded columns for 'embarked'\n",
    "print(titanic_n[(titanic_n['embarked=C'] != 0) | (titanic_n['embarked=Q'] != 0) | (titanic_n['embarked=S'] != 0)].head())\n"
   ]
  },
  {
   "cell_type": "markdown",
   "id": "dccc64c4",
   "metadata": {},
   "source": [
    "Convert the remaining categorical features..."
   ]
  },
  {
   "cell_type": "code",
   "execution_count": 20,
   "id": "58becac6",
   "metadata": {
    "collapsed": false,
    "jupyter": {
     "outputs_hidden": false
    }
   },
   "outputs": [
    {
     "name": "stdout",
     "output_type": "stream",
     "text": [
      "Original DataFrame:\n",
      "   pclass embarked     sex        home.dest  room ticket  boat\n",
      "0       1        S    male     New York, NY   C85  12345     2\n",
      "1       3        C  female  Los Angeles, CA  E101  23456  None\n",
      "2       2        Q  female           London   D56  34567     3\n",
      "3       1        S    male            Paris   A23  45678     4\n",
      "4       3        S    male     New York, NY   C85  56789  None\n",
      "\n",
      "Transformed DataFrame:\n",
      "   pclass embarked     sex  boat=2  boat=3  boat=4  boat=None  \\\n",
      "0       1        S    male     1.0     0.0     0.0        0.0   \n",
      "1       3        C  female     0.0     0.0     0.0        1.0   \n",
      "2       2        Q  female     0.0     1.0     0.0        0.0   \n",
      "3       1        S    male     0.0     0.0     1.0        0.0   \n",
      "4       3        S    male     0.0     0.0     0.0        1.0   \n",
      "\n",
      "   home.dest=London  home.dest=Los Angeles, CA  home.dest=New York, NY  \\\n",
      "0               0.0                        0.0                     1.0   \n",
      "1               0.0                        1.0                     0.0   \n",
      "2               1.0                        0.0                     0.0   \n",
      "3               0.0                        0.0                     0.0   \n",
      "4               0.0                        0.0                     1.0   \n",
      "\n",
      "   home.dest=Paris  room=A23  room=C85  room=D56  room=E101  ticket=12345  \\\n",
      "0              0.0       0.0       1.0       0.0        0.0           1.0   \n",
      "1              0.0       0.0       0.0       0.0        1.0           0.0   \n",
      "2              0.0       0.0       0.0       1.0        0.0           0.0   \n",
      "3              1.0       1.0       0.0       0.0        0.0           0.0   \n",
      "4              0.0       0.0       1.0       0.0        0.0           0.0   \n",
      "\n",
      "   ticket=23456  ticket=34567  ticket=45678  ticket=56789  \n",
      "0           0.0           0.0           0.0           0.0  \n",
      "1           1.0           0.0           0.0           0.0  \n",
      "2           0.0           1.0           0.0           0.0  \n",
      "3           0.0           0.0           1.0           0.0  \n",
      "4           0.0           0.0           0.0           1.0  \n",
      "\n",
      "One-Hot Encoded DataFrame:\n",
      "   boat=2  boat=3  boat=4  boat=None  home.dest=London  \\\n",
      "0     1.0     0.0     0.0        0.0               0.0   \n",
      "1     0.0     0.0     0.0        1.0               0.0   \n",
      "2     0.0     1.0     0.0        0.0               1.0   \n",
      "3     0.0     0.0     1.0        0.0               0.0   \n",
      "4     0.0     0.0     0.0        1.0               0.0   \n",
      "\n",
      "   home.dest=Los Angeles, CA  home.dest=New York, NY  home.dest=Paris  \\\n",
      "0                        0.0                     1.0              0.0   \n",
      "1                        1.0                     0.0              0.0   \n",
      "2                        0.0                     0.0              0.0   \n",
      "3                        0.0                     0.0              1.0   \n",
      "4                        0.0                     1.0              0.0   \n",
      "\n",
      "   room=A23  room=C85  room=D56  room=E101  ticket=12345  ticket=23456  \\\n",
      "0       0.0       1.0       0.0        0.0           1.0           0.0   \n",
      "1       0.0       0.0       0.0        1.0           0.0           1.0   \n",
      "2       0.0       0.0       1.0        0.0           0.0           0.0   \n",
      "3       1.0       0.0       0.0        0.0           0.0           0.0   \n",
      "4       0.0       1.0       0.0        0.0           0.0           0.0   \n",
      "\n",
      "   ticket=34567  ticket=45678  ticket=56789  \n",
      "0           0.0           0.0           0.0  \n",
      "1           0.0           0.0           0.0  \n",
      "2           1.0           0.0           0.0  \n",
      "3           0.0           1.0           0.0  \n",
      "4           0.0           0.0           1.0  \n"
     ]
    }
   ],
   "source": [
    "import pandas as pd\n",
    "from sklearn import feature_extraction\n",
    "\n",
    "# Define the one-hot encoding function\n",
    "def one_hot_dataframe(data, cols, replace=False):\n",
    "    vec = feature_extraction.DictVectorizer(sparse=False)\n",
    "    mkdict = lambda row: dict((col, row[col]) for col in cols)\n",
    "    vecData = pd.DataFrame(vec.fit_transform(data[cols].apply(mkdict, axis=1)))\n",
    "    vecData.columns = vec.get_feature_names_out()\n",
    "    vecData.index = data.index\n",
    "    if replace:\n",
    "        data = data.drop(cols, axis=1)\n",
    "        data = data.join(vecData)\n",
    "    return (data, vecData)\n",
    "\n",
    "# Sample titanic DataFrame for illustration\n",
    "titanic_data = {\n",
    "    'pclass': [1, 3, 2, 1, 3],\n",
    "    'embarked': ['S', 'C', 'Q', 'S', 'S'],\n",
    "    'sex': ['male', 'female', 'female', 'male', 'male'],\n",
    "    'home.dest': ['New York, NY', 'Los Angeles, CA', 'London', 'Paris', 'New York, NY'],\n",
    "    'room': ['C85', 'E101', 'D56', 'A23', 'C85'],\n",
    "    'ticket': ['12345', '23456', '34567', '45678', '56789'],\n",
    "    'boat': ['2', 'None', '3', '4', 'None']\n",
    "}\n",
    "titanic = pd.DataFrame(titanic_data)\n",
    "\n",
    "# Print the original DataFrame\n",
    "print(\"Original DataFrame:\")\n",
    "print(titanic.head())\n",
    "\n",
    "# Apply the one-hot encoding function\n",
    "titanic, titanic_n = one_hot_dataframe(titanic, ['home.dest', 'room', 'ticket', 'boat'], replace=True)\n",
    "\n",
    "# Print the transformed DataFrame\n",
    "print(\"\\nTransformed DataFrame:\")\n",
    "print(titanic.head())\n",
    "\n",
    "# Print the one-hot encoded DataFrame\n",
    "print(\"\\nOne-Hot Encoded DataFrame:\")\n",
    "print(titanic_n.head())\n",
    "\n"
   ]
  },
  {
   "cell_type": "markdown",
   "id": "b9f11cd9",
   "metadata": {},
   "source": [
    "Adjust N/A ages with the mean age"
   ]
  },
  {
   "cell_type": "code",
   "execution_count": 23,
   "id": "2d65f074",
   "metadata": {
    "collapsed": false,
    "jupyter": {
     "outputs_hidden": false
    }
   },
   "outputs": [
    {
     "name": "stdout",
     "output_type": "stream",
     "text": [
      "Descriptive statistics of 'age' column before filling missing values:\n",
      "count     3.000000\n",
      "mean     31.666667\n",
      "std       8.504901\n",
      "min      22.000000\n",
      "25%      28.500000\n",
      "50%      35.000000\n",
      "75%      36.500000\n",
      "max      38.000000\n",
      "Name: age, dtype: float64\n",
      "\n",
      "Descriptive statistics of 'age' column after filling missing values:\n",
      "count     5.000000\n",
      "mean     31.666667\n",
      "std       6.013873\n",
      "min      22.000000\n",
      "25%      31.666667\n",
      "50%      31.666667\n",
      "75%      35.000000\n",
      "max      38.000000\n",
      "Name: age, dtype: float64\n"
     ]
    }
   ],
   "source": [
    "import pandas as pd\n",
    "\n",
    "# Sample titanic DataFrame with 'age' column for illustration\n",
    "titanic_data = {\n",
    "    'pclass': [1, 3, 2, 1, 3],\n",
    "    'embarked': ['S', 'C', 'Q', 'S', 'S'],\n",
    "    'sex': ['male', 'female', 'female', 'male', 'male'],\n",
    "    'age': [22, 38, None, 35, None]\n",
    "}\n",
    "titanic = pd.DataFrame(titanic_data)\n",
    "\n",
    "# Print descriptive statistics of the 'age' column before filling missing values\n",
    "print(\"Descriptive statistics of 'age' column before filling missing values:\")\n",
    "print(titanic['age'].describe())\n",
    "\n",
    "# Calculate the mean of the 'age' column\n",
    "mean_age = titanic['age'].mean()\n",
    "\n",
    "# Fill missing values in the 'age' column with the mean\n",
    "titanic['age'].fillna(mean_age, inplace=True)\n",
    "\n",
    "# Print descriptive statistics of the 'age' column after filling missing values\n",
    "print(\"\\nDescriptive statistics of 'age' column after filling missing values:\")\n",
    "print(titanic['age'].describe())\n"
   ]
  },
  {
   "cell_type": "markdown",
   "id": "b9c3948b",
   "metadata": {},
   "source": [
    "Complete n/a with zeros"
   ]
  },
  {
   "cell_type": "code",
   "execution_count": 26,
   "id": "9c81930a",
   "metadata": {
    "collapsed": false,
    "jupyter": {
     "outputs_hidden": false
    }
   },
   "outputs": [],
   "source": [
    "titanic.fillna(0, inplace=True)"
   ]
  },
  {
   "cell_type": "code",
   "execution_count": 28,
   "id": "5b0e8091",
   "metadata": {
    "collapsed": false,
    "jupyter": {
     "outputs_hidden": false
    }
   },
   "outputs": [
    {
     "name": "stdout",
     "output_type": "stream",
     "text": [
      "   pclass embarked     sex        age\n",
      "0       1        S    male  22.000000\n",
      "1       3        C  female  38.000000\n",
      "2       2        Q  female  31.666667\n",
      "3       1        S    male  35.000000\n",
      "4       3        S    male  31.666667\n"
     ]
    }
   ],
   "source": [
    "print (titanic)"
   ]
  },
  {
   "cell_type": "markdown",
   "id": "84fc47e1",
   "metadata": {},
   "source": [
    "Build the training and testing dataset"
   ]
  },
  {
   "cell_type": "code",
   "execution_count": 31,
   "id": "787f7158",
   "metadata": {
    "collapsed": false,
    "jupyter": {
     "outputs_hidden": false
    }
   },
   "outputs": [
    {
     "name": "stdout",
     "output_type": "stream",
     "text": [
      "X_train shape: (3, 4)\n",
      "X_test shape: (2, 4)\n",
      "y_train shape: (3,)\n",
      "y_test shape: (2,)\n"
     ]
    }
   ],
   "source": [
    "import pandas as pd\n",
    "from sklearn.model_selection import train_test_split\n",
    "\n",
    "# Sample Titanic DataFrame with 'survived' and other columns for illustration\n",
    "titanic_data = {\n",
    "    'name': ['John', 'Jane', 'Mary', 'Peter', 'Tom'],\n",
    "    'row.names': [1, 2, 3, 4, 5],\n",
    "    'survived': [1, 0, 1, 0, 1],\n",
    "    'pclass': [1, 3, 2, 1, 3],\n",
    "    'embarked': ['S', 'C', 'Q', 'S', 'S'],\n",
    "    'sex': ['male', 'female', 'female', 'male', 'male'],\n",
    "    'age': [22, 38, 26, 35, 28]\n",
    "}\n",
    "titanic = pd.DataFrame(titanic_data)\n",
    "\n",
    "# Set the target variable and drop unnecessary columns\n",
    "titanic_target = titanic['survived']\n",
    "titanic_data = titanic.drop(['name', 'row.names', 'survived'], axis=1)\n",
    "\n",
    "# Split the data into training and testing sets\n",
    "X_train, X_test, y_train, y_test = train_test_split(titanic_data, titanic_target, test_size=0.25, random_state=33)\n",
    "\n",
    "# Print the shapes of the training and testing sets\n",
    "print(\"X_train shape:\", X_train.shape)\n",
    "print(\"X_test shape:\", X_test.shape)\n",
    "print(\"y_train shape:\", y_train.shape)\n",
    "print(\"y_test shape:\", y_test.shape)\n"
   ]
  },
  {
   "cell_type": "code",
   "execution_count": 33,
   "id": "b585ceeb",
   "metadata": {
    "collapsed": false,
    "jupyter": {
     "outputs_hidden": false
    }
   },
   "outputs": [
    {
     "name": "stdout",
     "output_type": "stream",
     "text": [
      "Accuracy: 1.0\n",
      "\n",
      "Classification Report:\n",
      "               precision    recall  f1-score   support\n",
      "\n",
      "           0       1.00      1.00      1.00         1\n",
      "           1       1.00      1.00      1.00         1\n",
      "\n",
      "    accuracy                           1.00         2\n",
      "   macro avg       1.00      1.00      1.00         2\n",
      "weighted avg       1.00      1.00      1.00         2\n",
      "\n",
      "\n",
      "Confusion Matrix:\n",
      " [[1 0]\n",
      " [0 1]]\n"
     ]
    }
   ],
   "source": [
    "import pandas as pd\n",
    "from sklearn.model_selection import train_test_split\n",
    "from sklearn import tree\n",
    "from sklearn.metrics import accuracy_score, classification_report, confusion_matrix\n",
    "\n",
    "# Sample Titanic DataFrame with 'survived' and other columns for illustration\n",
    "titanic_data = {\n",
    "    'name': ['John', 'Jane', 'Mary', 'Peter', 'Tom'],\n",
    "    'row.names': [1, 2, 3, 4, 5],\n",
    "    'survived': [1, 0, 1, 0, 1],\n",
    "    'pclass': [1, 3, 2, 1, 3],\n",
    "    'embarked': ['S', 'C', 'Q', 'S', 'S'],\n",
    "    'sex': ['male', 'female', 'female', 'male', 'male'],\n",
    "    'age': [22, 38, 26, 35, 28]\n",
    "}\n",
    "titanic = pd.DataFrame(titanic_data)\n",
    "\n",
    "# Set the target variable and drop unnecessary columns\n",
    "titanic_target = titanic['survived']\n",
    "titanic_data = titanic.drop(['name', 'row.names', 'survived'], axis=1)\n",
    "\n",
    "# One-hot encode categorical variables\n",
    "titanic_data = pd.get_dummies(titanic_data)\n",
    "\n",
    "# Split the data into training and testing sets\n",
    "X_train, X_test, y_train, y_test = train_test_split(titanic_data, titanic_target, test_size=0.25, random_state=33)\n",
    "\n",
    "# Initialize and train the Decision Tree classifier\n",
    "dt = tree.DecisionTreeClassifier(criterion='entropy')\n",
    "dt = dt.fit(X_train, y_train)\n",
    "\n",
    "# Predict on the test set\n",
    "y_pred = dt.predict(X_test)\n",
    "\n",
    "# Evaluate the classifier\n",
    "accuracy = accuracy_score(y_test, y_pred)\n",
    "report = classification_report(y_test, y_pred)\n",
    "conf_matrix = confusion_matrix(y_test, y_pred)\n",
    "\n",
    "# Print evaluation metrics\n",
    "print(\"Accuracy:\", accuracy)\n",
    "print(\"\\nClassification Report:\\n\", report)\n",
    "print(\"\\nConfusion Matrix:\\n\", conf_matrix)\n",
    "\n"
   ]
  },
  {
   "cell_type": "code",
   "execution_count": 35,
   "id": "e6ac746b",
   "metadata": {
    "collapsed": false,
    "jupyter": {
     "outputs_hidden": false
    }
   },
   "outputs": [
    {
     "data": {
      "image/png": "[encoded data removed]",
      "text/plain": [
       "<IPython.core.display.Image object>"
      ]
     },
     "metadata": {},
     "output_type": "display_data"
    }
   ],
   "source": [
    "import pydotplus\n",
    "from sklearn import tree\n",
    "from io import StringIO\n",
    "import matplotlib.pyplot as plt\n",
    "from IPython.display import Image\n",
    "\n",
    "# Export the decision tree to a dot file\n",
    "dot_data = StringIO()\n",
    "tree.export_graphviz(dt, out_file=dot_data, feature_names=titanic_data.columns, filled=True, rounded=True, special_characters=True)\n",
    "\n",
    "# Create a graph from the dot file\n",
    "graph = pydotplus.graph_from_dot_data(dot_data.getvalue())\n",
    "\n",
    "# Save the graph as a PNG image\n",
    "graph.write_png('titanic.png')\n",
    "\n",
    "# Display the image\n",
    "Image(filename='titanic.png')\n",
    "\n",
    "# Alternatively, to display the image directly in Jupyter Notebook\n",
    "img = Image(graph.create_png())\n",
    "display(img)\n"
   ]
  },
  {
   "cell_type": "code",
   "execution_count": 36,
   "id": "d97af0c4",
   "metadata": {
    "collapsed": false,
    "jupyter": {
     "outputs_hidden": false
    }
   },
   "outputs": [
    {
     "name": "stdout",
     "output_type": "stream",
     "text": [
      "Accuracy: 1.000\n",
      "\n",
      "Classification report\n",
      "              precision    recall  f1-score   support\n",
      "\n",
      "           0       1.00      1.00      1.00         1\n",
      "           1       1.00      1.00      1.00         1\n",
      "\n",
      "    accuracy                           1.00         2\n",
      "   macro avg       1.00      1.00      1.00         2\n",
      "weighted avg       1.00      1.00      1.00         2\n",
      " \n",
      "\n",
      "Confusion matrix\n",
      "[[1 0]\n",
      " [0 1]] \n",
      "\n"
     ]
    }
   ],
   "source": [
    "from sklearn import metrics\n",
    "\n",
    "def measure_performance(X, y, clf, show_accuracy=True, show_classification_report=True, show_confusion_matrix=True):\n",
    "    y_pred = clf.predict(X)   \n",
    "    if show_accuracy:\n",
    "        print(\"Accuracy: {0:.3f}\\n\".format(metrics.accuracy_score(y, y_pred)))\n",
    "    \n",
    "    if show_classification_report:\n",
    "        print(\"Classification report\")\n",
    "        print(metrics.classification_report(y, y_pred), \"\\n\")\n",
    "      \n",
    "    if show_confusion_matrix:\n",
    "        print(\"Confusion matrix\")\n",
    "        print(metrics.confusion_matrix(y, y_pred), \"\\n\")\n",
    "\n",
    "# Example usage:\n",
    "measure_performance(X_test, y_test, dt)\n"
   ]
  },
  {
   "cell_type": "code",
   "execution_count": 37,
   "id": "99bf586c",
   "metadata": {
    "collapsed": false,
    "jupyter": {
     "outputs_hidden": false
    }
   },
   "outputs": [
    {
     "name": "stdout",
     "output_type": "stream",
     "text": [
      "Accuracy: 1.000\n",
      "\n",
      "Classification report\n",
      "              precision    recall  f1-score   support\n",
      "\n",
      "           0       1.00      1.00      1.00         1\n",
      "           1       1.00      1.00      1.00         1\n",
      "\n",
      "    accuracy                           1.00         2\n",
      "   macro avg       1.00      1.00      1.00         2\n",
      "weighted avg       1.00      1.00      1.00         2\n",
      " \n",
      "\n",
      "Confusion matrix\n",
      "[[1 0]\n",
      " [0 1]] \n",
      "\n"
     ]
    }
   ],
   "source": [
    "from sklearn import metrics\n",
    "\n",
    "def measure_performance(X, y, clf, show_accuracy=True, show_classification_report=True, show_confusion_matrix=True):\n",
    "    y_pred = clf.predict(X)   \n",
    "    if show_accuracy:\n",
    "        print(\"Accuracy: {0:.3f}\\n\".format(metrics.accuracy_score(y, y_pred)))\n",
    "    \n",
    "    if show_classification_report:\n",
    "        print(\"Classification report\")\n",
    "        print(metrics.classification_report(y, y_pred), \"\\n\")\n",
    "      \n",
    "    if show_confusion_matrix:\n",
    "        print(\"Confusion matrix\")\n",
    "        print(metrics.confusion_matrix(y, y_pred), \"\\n\")\n",
    "\n",
    "# Example usage:\n",
    "measure_performance(X_test, y_test, dt)\n"
   ]
  },
  {
   "cell_type": "markdown",
   "id": "63e3adb1",
   "metadata": {},
   "source": [
    "## Feature Selection"
   ]
  },
  {
   "cell_type": "markdown",
   "id": "07afc803",
   "metadata": {},
   "source": [
    "Select only the 20% most important features, using a chi2 test"
   ]
  },
  {
   "cell_type": "code",
   "execution_count": 40,
   "id": "c94db378",
   "metadata": {
    "collapsed": false,
    "jupyter": {
     "outputs_hidden": false
    }
   },
   "outputs": [
    {
     "name": "stdout",
     "output_type": "stream",
     "text": [
      "Index(['pclass', 'age'], dtype='object')\n",
      "nan\n",
      "embarked_C\n"
     ]
    }
   ],
   "source": [
    "from sklearn import feature_selection\n",
    "fs = feature_selection.SelectPercentile(feature_selection.chi2, percentile=20)\n",
    "X_train_fs = fs.fit_transform(X_train, y_train)\n",
    "print (titanic_data.columns[fs.get_support()])\n",
    "print (fs.scores_[2])\n",
    "print (titanic_data.columns[2])\n"
   ]
  },
  {
   "cell_type": "markdown",
   "id": "cea8110a",
   "metadata": {},
   "source": [
    "Evaluate performance with the new feature set"
   ]
  },
  {
   "cell_type": "code",
   "execution_count": 46,
   "id": "cca0e8ad",
   "metadata": {
    "collapsed": false,
    "jupyter": {
     "outputs_hidden": false
    }
   },
   "outputs": [
    {
     "name": "stdout",
     "output_type": "stream",
     "text": [
      "Accuracy: 1.000\n",
      "\n"
     ]
    },
    {
     "name": "stderr",
     "output_type": "stream",
     "text": [
      "/opt/homebrew/anaconda3/lib/python3.11/site-packages/sklearn/feature_selection/_univariate_selection.py:110: UserWarning: Features [2 3 4 5 6] are constant.\n",
      "  warnings.warn(\"Features %s are constant.\" % constant_features_idx, UserWarning)\n",
      "/opt/homebrew/anaconda3/lib/python3.11/site-packages/sklearn/feature_selection/_univariate_selection.py:111: RuntimeWarning: invalid value encountered in divide\n",
      "  f = msb / msw\n"
     ]
    }
   ],
   "source": [
    "import pandas as pd\n",
    "import numpy as np\n",
    "from sklearn.tree import DecisionTreeClassifier\n",
    "from sklearn.feature_selection import SelectKBest, f_classif, VarianceThreshold\n",
    "from sklearn.model_selection import train_test_split\n",
    "from sklearn import metrics\n",
    "\n",
    "# Sample Titanic DataFrame with 'survived' and other columns for illustration\n",
    "titanic_data = {\n",
    "    'name': ['John', 'Jane', 'Mary', 'Peter', 'Tom'],\n",
    "    'row.names': [1, 2, 3, 4, 5],\n",
    "    'survived': [1, 0, 1, 0, 1],\n",
    "    'pclass': [1, 3, 2, 1, 3],\n",
    "    'embarked': ['S', 'C', 'Q', 'S', 'S'],\n",
    "    'sex': ['male', 'female', 'female', 'male', 'male'],\n",
    "    'age': [22, 38, 26, 35, 28]\n",
    "}\n",
    "titanic = pd.DataFrame(titanic_data)\n",
    "\n",
    "# Set the target variable and drop unnecessary columns\n",
    "titanic_target = titanic['survived']\n",
    "titanic_data = titanic.drop(['name', 'row.names', 'survived'], axis=1)\n",
    "\n",
    "# One-hot encode categorical variables\n",
    "titanic_data = pd.get_dummies(titanic_data)\n",
    "\n",
    "# Remove constant features\n",
    "constant_filter = VarianceThreshold(threshold=0)\n",
    "titanic_data = constant_filter.fit_transform(titanic_data)\n",
    "\n",
    "# Split the data into training and testing sets\n",
    "X_train, X_test, y_train, y_test = train_test_split(titanic_data, titanic_target, test_size=0.25, random_state=33)\n",
    "\n",
    "# Perform feature selection\n",
    "fs = SelectKBest(score_func=f_classif, k='all')  # 'all' to select all features, adjust k as needed\n",
    "X_train_fs = fs.fit_transform(X_train, y_train)\n",
    "X_test_fs = fs.transform(X_test)\n",
    "\n",
    "# Initialize and train the Decision Tree classifier\n",
    "dt = DecisionTreeClassifier(criterion='entropy')\n",
    "dt.fit(X_train_fs, y_train)\n",
    "\n",
    "# Function to measure performance\n",
    "def measure_performance(X, y, clf, show_accuracy=True, show_classification_report=True, show_confusion_matrix=True):\n",
    "    y_pred = clf.predict(X)   \n",
    "    if show_accuracy:\n",
    "        print(\"Accuracy: {0:.3f}\\n\".format(metrics.accuracy_score(y, y_pred)))\n",
    "    \n",
    "    if show_classification_report:\n",
    "        print(\"Classification report\")\n",
    "        print(metrics.classification_report(y, y_pred), \"\\n\")\n",
    "      \n",
    "    if show_confusion_matrix:\n",
    "        print(\"Confusion matrix\")\n",
    "        print(metrics.confusion_matrix(y, y_pred), \"\\n\")\n",
    "\n",
    "# Measure performance on the test set\n",
    "measure_performance(X_test_fs, y_test, dt, show_confusion_matrix=False, show_classification_report=False)\n",
    "\n"
   ]
  },
  {
   "cell_type": "markdown",
   "id": "f1c778fe",
   "metadata": {},
   "source": [
    "Find the best percentil using cross-validation on the training set"
   ]
  },
  {
   "cell_type": "code",
   "execution_count": 57,
   "id": "6918b714",
   "metadata": {
    "collapsed": false,
    "jupyter": {
     "outputs_hidden": false
    }
   },
   "outputs": [
    {
     "name": "stdout",
     "output_type": "stream",
     "text": [
      "Optimal number of features: 1 \n",
      "\n"
     ]
    },
    {
     "data": {
      "image/png": "[encoded data removed]",
      "text/plain": [
       "<Figure size 640x480 with 1 Axes>"
      ]
     },
     "metadata": {},
     "output_type": "display_data"
    },
    {
     "name": "stdout",
     "output_type": "stream",
     "text": [
      "Mean scores: [1.   1.   1.   1.   0.75 0.75 1.   1.   0.75 1.   0.75 1.   0.75 1.\n",
      " 1.   0.75 0.75 1.   1.   1.  ]\n"
     ]
    }
   ],
   "source": [
    "import numpy as np\n",
    "import pylab as pl\n",
    "from sklearn import model_selection, feature_selection, tree\n",
    "from sklearn.feature_selection import VarianceThreshold\n",
    "from sklearn.model_selection import train_test_split\n",
    "from imblearn.over_sampling import RandomOverSampler\n",
    "import pandas as pd\n",
    "\n",
    "# Sample Titanic DataFrame with 'survived' and other columns for illustration\n",
    "titanic_data = {\n",
    "    'name': ['John', 'Jane', 'Mary', 'Peter', 'Tom'],\n",
    "    'row.names': [1, 2, 3, 4, 5],\n",
    "    'survived': [1, 0, 1, 0, 1],\n",
    "    'pclass': [1, 3, 2, 1, 3],\n",
    "    'embarked': ['S', 'C', 'Q', 'S', 'S'],\n",
    "    'sex': ['male', 'female', 'female', 'male', 'male'],\n",
    "    'age': [22, 38, 26, 35, 28]\n",
    "}\n",
    "titanic = pd.DataFrame(titanic_data)\n",
    "\n",
    "# Set the target variable and drop unnecessary columns\n",
    "titanic_target = titanic['survived']\n",
    "titanic_data = titanic.drop(['name', 'row.names', 'survived'], axis=1)\n",
    "\n",
    "# One-hot encode categorical variables\n",
    "titanic_data = pd.get_dummies(titanic_data)\n",
    "\n",
    "# Remove constant features\n",
    "constant_filter = VarianceThreshold(threshold=0)\n",
    "titanic_data = constant_filter.fit_transform(titanic_data)\n",
    "\n",
    "# Split the data into training and testing sets\n",
    "X_train, X_test, y_train, y_test = train_test_split(titanic_data, titanic_target, test_size=0.25, random_state=33)\n",
    "\n",
    "# Balance the classes in the training set using RandomOverSampler\n",
    "ros = RandomOverSampler(random_state=42)\n",
    "X_train_balanced, y_train_balanced = ros.fit_resample(X_train, y_train)\n",
    "\n",
    "# Initialize the Decision Tree classifier\n",
    "dt = tree.DecisionTreeClassifier(criterion='entropy')\n",
    "\n",
    "# Perform feature selection and cross-validation\n",
    "percentiles = range(1, 100, 5)\n",
    "results = []\n",
    "\n",
    "for i in percentiles:\n",
    "    fs = feature_selection.SelectPercentile(feature_selection.chi2, percentile=i)\n",
    "    X_train_fs = fs.fit_transform(X_train_balanced, y_train_balanced)\n",
    "    \n",
    "    # Dynamically adjust n_splits based on the minimum number of samples per class\n",
    "    min_samples = min(np.bincount(y_train_balanced))\n",
    "    n_splits = min(5, min_samples, len(y_train_balanced))  # Ensure n_splits does not exceed number of samples per class\n",
    "    n_splits = max(2, n_splits)  # Ensure n_splits is at least 2\n",
    "    cv = model_selection.StratifiedKFold(n_splits=n_splits)\n",
    "    \n",
    "    scores = model_selection.cross_val_score(dt, X_train_fs, y_train_balanced, cv=cv)\n",
    "    results = np.append(results, scores.mean())\n",
    "\n",
    "optimal_percentile = percentiles[np.argmax(results)]\n",
    "print(\"Optimal number of features: {0}\".format(optimal_percentile), \"\\n\")\n",
    "\n",
    "# Plot number of features VS. cross-validation scores\n",
    "pl.figure()\n",
    "pl.xlabel(\"Number of features selected\")\n",
    "pl.ylabel(\"Cross validation accuracy\")\n",
    "pl.plot(percentiles, results)\n",
    "pl.show()\n",
    "\n",
    "print(\"Mean scores:\", results)\n",
    "\n",
    "# Evaluate our best number of features on the test set\n",
    "fs = feature_selection.SelectPercentile(feature_selection.chi2, percentile=optimal_percentile)\n",
    "X_train_fs = fs.fit_transform(X_train, y_train)\n",
    "dt.fit(X_train_fs, y_train)\n",
    "X_test_fs = fs.transform(X_test)\n",
    "\n",
    "# Define measure_performance function if not defined\n",
    "from sklearn.metrics import classification_report\n",
    "\n",
    "def measure_performance(X, y, clf, show_confussion_matrix=True, show_classification_report=True):\n",
    "    y_pred = clf.predict(X)\n",
    "    if show_confussion_matrix:\n",
    "        print(\"Confusion Matrix:\")\n",
    "        print(pd.crosstab(y, y_pred, rownames=['Actual'], colnames=['Predicted'], margins=True))\n",
    "    if show_classification_report:\n",
    "        print(\"Classification Report:\")\n",
    "        print(classification_report(y, y_pred))\n",
    "\n",
    "measure_performance(X_test_fs, y_test, dt, show_confussion_matrix=False, show_classification_report=False)\n"
   ]
  },
  {
   "cell_type": "markdown",
   "id": "0308ca60",
   "metadata": {},
   "source": [
    "Evaluate our best number of features on the test set"
   ]
  },
  {
   "cell_type": "code",
   "execution_count": 61,
   "id": "20d095b5",
   "metadata": {
    "collapsed": false,
    "jupyter": {
     "outputs_hidden": false
    }
   },
   "outputs": [
    {
     "name": "stdout",
     "output_type": "stream",
     "text": [
      "Optimal number of features: 1 \n",
      "\n"
     ]
    },
    {
     "data": {
      "image/png": "[encoded data removed]",
      "text/plain": [
       "<Figure size 640x480 with 1 Axes>"
      ]
     },
     "metadata": {},
     "output_type": "display_data"
    },
    {
     "name": "stdout",
     "output_type": "stream",
     "text": [
      "Mean scores: [1.   1.   1.   1.   0.75 1.   0.75 1.   1.   0.75 0.75 1.   0.75 1.\n",
      " 1.   1.   0.75 1.   0.75 1.  ]\n"
     ]
    }
   ],
   "source": [
    "import numpy as np\n",
    "import pylab as pl\n",
    "from sklearn import model_selection, feature_selection, tree\n",
    "from sklearn.feature_selection import VarianceThreshold\n",
    "from sklearn.model_selection import train_test_split\n",
    "from imblearn.over_sampling import RandomOverSampler\n",
    "import pandas as pd\n",
    "\n",
    "# Sample Titanic DataFrame with 'survived' and other columns for illustration\n",
    "titanic_data = {\n",
    "    'name': ['John', 'Jane', 'Mary', 'Peter', 'Tom'],\n",
    "    'row.names': [1, 2, 3, 4, 5],\n",
    "    'survived': [1, 0, 1, 0, 1],\n",
    "    'pclass': [1, 3, 2, 1, 3],\n",
    "    'embarked': ['S', 'C', 'Q', 'S', 'S'],\n",
    "    'sex': ['male', 'female', 'female', 'male', 'male'],\n",
    "    'age': [22, 38, 26, 35, 28]\n",
    "}\n",
    "titanic = pd.DataFrame(titanic_data)\n",
    "\n",
    "# Set the target variable and drop unnecessary columns\n",
    "titanic_target = titanic['survived']\n",
    "titanic_data = titanic.drop(['name', 'row.names', 'survived'], axis=1)\n",
    "\n",
    "# One-hot encode categorical variables\n",
    "titanic_data = pd.get_dummies(titanic_data)\n",
    "\n",
    "# Remove constant features\n",
    "constant_filter = VarianceThreshold(threshold=0)\n",
    "titanic_data = constant_filter.fit_transform(titanic_data)\n",
    "\n",
    "# Split the data into training and testing sets\n",
    "X_train, X_test, y_train, y_test = train_test_split(titanic_data, titanic_target, test_size=0.25, random_state=33)\n",
    "\n",
    "# Balance the classes in the training set using RandomOverSampler\n",
    "ros = RandomOverSampler(random_state=42)\n",
    "X_train_balanced, y_train_balanced = ros.fit_resample(X_train, y_train)\n",
    "\n",
    "# Initialize the Decision Tree classifier\n",
    "dt = tree.DecisionTreeClassifier(criterion='entropy')\n",
    "\n",
    "# Perform feature selection and cross-validation\n",
    "percentiles = range(1, 100, 5)\n",
    "results = []\n",
    "\n",
    "for i in percentiles:\n",
    "    fs = feature_selection.SelectPercentile(feature_selection.chi2, percentile=i)\n",
    "    X_train_fs = fs.fit_transform(X_train_balanced, y_train_balanced)\n",
    "    \n",
    "    # Dynamically adjust n_splits based on the minimum number of samples per class\n",
    "    min_samples = min(np.bincount(y_train_balanced))\n",
    "    n_splits = min(5, min_samples, len(y_train_balanced))  # Ensure n_splits does not exceed number of samples per class\n",
    "    n_splits = max(2, n_splits)  # Ensure n_splits is at least 2\n",
    "    cv = model_selection.StratifiedKFold(n_splits=n_splits)\n",
    "    \n",
    "    scores = model_selection.cross_val_score(dt, X_train_fs, y_train_balanced, cv=cv)\n",
    "    results = np.append(results, scores.mean())\n",
    "\n",
    "optimal_percentile = percentiles[np.argmax(results)]\n",
    "print(\"Optimal number of features: {0}\".format(optimal_percentile), \"\\n\")\n",
    "\n",
    "# Plot number of features VS. cross-validation scores\n",
    "pl.figure()\n",
    "pl.xlabel(\"Number of features selected\")\n",
    "pl.ylabel(\"Cross validation accuracy\")\n",
    "pl.plot(percentiles, results)\n",
    "pl.show()\n",
    "\n",
    "print(\"Mean scores:\", results)\n",
    "\n",
    "# Evaluate our best number of features on the test set\n",
    "fs = feature_selection.SelectPercentile(feature_selection.chi2, percentile=optimal_percentile)\n",
    "X_train_fs = fs.fit_transform(X_train, y_train)\n",
    "dt.fit(X_train_fs, y_train)\n",
    "X_test_fs = fs.transform(X_test)\n",
    "\n",
    "# Define measure_performance function if not defined\n",
    "from sklearn.metrics import classification_report\n",
    "\n",
    "def measure_performance(X, y, clf, show_confussion_matrix=True, show_classification_report=True):\n",
    "    y_pred = clf.predict(X)\n",
    "    if show_confussion_matrix:\n",
    "        print(\"Confusion Matrix:\")\n",
    "        print(pd.crosstab(y, y_pred, rownames=['Actual'], colnames=['Predicted'], margins=True))\n",
    "    if show_classification_report:\n",
    "        print(\"Classification Report:\")\n",
    "        print(classification_report(y, y_pred))\n",
    "\n",
    "measure_performance(X_test_fs, y_test, dt, show_confussion_matrix=False, show_classification_report=False)\n"
   ]
  },
  {
   "cell_type": "markdown",
   "id": "9202148a",
   "metadata": {},
   "source": [
    "## Model selection"
   ]
  },
  {
   "cell_type": "code",
   "execution_count": 64,
   "id": "2e3104ea",
   "metadata": {
    "collapsed": false,
    "jupyter": {
     "outputs_hidden": false
    }
   },
   "outputs": [
    {
     "name": "stdout",
     "output_type": "stream",
     "text": [
      "{'ccp_alpha': 0.0, 'class_weight': None, 'criterion': 'entropy', 'max_depth': None, 'max_features': None, 'max_leaf_nodes': None, 'min_impurity_decrease': 0.0, 'min_samples_leaf': 1, 'min_samples_split': 2, 'min_weight_fraction_leaf': 0.0, 'random_state': None, 'splitter': 'best'}\n"
     ]
    }
   ],
   "source": [
    "print (dt.get_params())"
   ]
  },
  {
   "cell_type": "markdown",
   "id": "969f032f",
   "metadata": {},
   "source": [
    "Compute the best criterion"
   ]
  },
  {
   "cell_type": "code",
   "execution_count": 67,
   "id": "790cf795",
   "metadata": {
    "collapsed": false,
    "jupyter": {
     "outputs_hidden": false
    }
   },
   "outputs": [
    {
     "name": "stdout",
     "output_type": "stream",
     "text": [
      "Optimal number of features: 1\n"
     ]
    },
    {
     "data": {
      "image/png": "[encoded data removed]",
      "text/plain": [
       "<Figure size 640x480 with 1 Axes>"
      ]
     },
     "metadata": {},
     "output_type": "display_data"
    },
    {
     "name": "stdout",
     "output_type": "stream",
     "text": [
      "Accuracy: 1.000\n",
      "Entropy criterion accuracy on cv: 0.667\n",
      "Gini criterion accuracy on cv: 0.667\n"
     ]
    }
   ],
   "source": [
    "from sklearn.model_selection import train_test_split, cross_val_score, KFold\n",
    "from sklearn.tree import DecisionTreeClassifier\n",
    "from sklearn.feature_selection import SelectPercentile, chi2\n",
    "import numpy as np\n",
    "\n",
    "# Assuming X_train, y_train, X_test, y_test are already defined\n",
    "# Define the percentiles and perform feature selection\n",
    "percentiles = range(1, 100, 5)\n",
    "results = []\n",
    "\n",
    "for i in percentiles:\n",
    "    fs = SelectPercentile(chi2, percentile=i)\n",
    "    X_train_fs = fs.fit_transform(X_train, y_train)\n",
    "    \n",
    "    # Adjust the number of splits based on the number of samples\n",
    "    n_splits = min(5, len(y_train))\n",
    "    cv = KFold(n_splits=n_splits)\n",
    "    \n",
    "    dt = DecisionTreeClassifier(criterion='entropy')\n",
    "    scores = cross_val_score(dt, X_train_fs, y_train, cv=cv)\n",
    "    results = np.append(results, scores.mean())\n",
    "\n",
    "optimal_percentile = percentiles[np.argmax(results)]\n",
    "print(\"Optimal number of features: {0}\".format(optimal_percentile))\n",
    "\n",
    "# Plot number of features VS. cross-validation scores\n",
    "import matplotlib.pyplot as plt\n",
    "plt.figure()\n",
    "plt.xlabel(\"Number of features selected\")\n",
    "plt.ylabel(\"Cross validation accuracy\")\n",
    "plt.plot(percentiles, results)\n",
    "plt.show()\n",
    "\n",
    "# Evaluate performance with optimal features\n",
    "fs = SelectPercentile(chi2, percentile=optimal_percentile)\n",
    "X_train_fs = fs.fit_transform(X_train, y_train)\n",
    "dt.fit(X_train_fs, y_train)\n",
    "X_test_fs = fs.transform(X_test)\n",
    "\n",
    "def measure_performance(X, y, clf, show_accuracy=True, show_classification_report=True, show_confusion_matrix=True):\n",
    "    y_pred = clf.predict(X)\n",
    "    if show_accuracy:\n",
    "        print(\"Accuracy: {0:.3f}\".format(metrics.accuracy_score(y, y_pred)))\n",
    "    if show_classification_report:\n",
    "        print(\"Classification report\")\n",
    "        print(metrics.classification_report(y, y_pred))\n",
    "    if show_confusion_matrix:\n",
    "        print(\"Confusion matrix\")\n",
    "        print(metrics.confusion_matrix(y, y_pred))\n",
    "\n",
    "measure_performance(X_test_fs, y_test, dt, show_confusion_matrix=False, show_classification_report=False)\n",
    "\n",
    "# Compare 'entropy' and 'gini' criteria\n",
    "dt_entropy = DecisionTreeClassifier(criterion='entropy')\n",
    "scores_entropy = cross_val_score(dt_entropy, X_train_fs, y_train, cv=cv)\n",
    "print(\"Entropy criterion accuracy on cv: {0:.3f}\".format(scores_entropy.mean()))\n",
    "\n",
    "dt_gini = DecisionTreeClassifier(criterion='gini')\n",
    "scores_gini = cross_val_score(dt_gini, X_train_fs, y_train, cv=cv)\n",
    "print(\"Gini criterion accuracy on cv: {0:.3f}\".format(scores_gini.mean()))\n",
    "\n"
   ]
  },
  {
   "cell_type": "code",
   "execution_count": 69,
   "id": "126be4a9",
   "metadata": {
    "collapsed": false,
    "jupyter": {
     "outputs_hidden": false
    }
   },
   "outputs": [
    {
     "name": "stdout",
     "output_type": "stream",
     "text": [
      "Accuracy: 1.000\n"
     ]
    }
   ],
   "source": [
    "from sklearn import metrics\n",
    "\n",
    "def measure_performance(X, y, clf, show_accuracy=True, show_classification_report=True, show_confusion_matrix=True):\n",
    "    y_pred = clf.predict(X)\n",
    "    if show_accuracy:\n",
    "        print(\"Accuracy: {0:.3f}\".format(metrics.accuracy_score(y, y_pred)))\n",
    "    if show_classification_report:\n",
    "        print(\"Classification report\")\n",
    "        print(metrics.classification_report(y, y_pred))\n",
    "    if show_confusion_matrix:\n",
    "        print(\"Confusion matrix\")\n",
    "        print(metrics.confusion_matrix(y, y_pred))\n",
    "\n",
    "# Fit the decision tree with the selected features on the training data\n",
    "dt.fit(X_train_fs, y_train)\n",
    "\n",
    "# Transform the test set using the same feature selection\n",
    "X_test_fs = fs.transform(X_test)\n",
    "\n",
    "# Measure the performance of the model\n",
    "measure_performance(X_test_fs, y_test, dt, show_confusion_matrix=False, show_classification_report=False)\n"
   ]
  }
 ],
 "metadata": {
  "kernelspec": {
   "display_name": "Python 3 (ipykernel)",
   "language": "python",
   "name": "python3"
  },
  "language_info": {
   "codemirror_mode": {
    "name": "ipython",
    "version": 3
   },
   "file_extension": ".py",
   "mimetype": "text/x-python",
   "name": "python",
   "nbconvert_exporter": "python",
   "pygments_lexer": "ipython3",
   "version": "3.11.7"
  }
 },
 "nbformat": 4,
 "nbformat_minor": 5
}
