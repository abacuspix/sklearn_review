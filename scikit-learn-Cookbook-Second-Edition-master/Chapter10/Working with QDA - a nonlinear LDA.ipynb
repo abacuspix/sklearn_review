{
 "cells": [
  {
   "cell_type": "code",
   "execution_count": null,
   "metadata": {
    "collapsed": true,
    "jupyter": {
     "outputs_hidden": true
    }
   },
   "outputs": [],
   "source": [
    "#Working with QDA - a nonlinear LDA"
   ]
  },
  {
   "cell_type": "code",
   "execution_count": 24,
   "metadata": {},
   "outputs": [
    {
     "name": "stderr",
     "output_type": "stream",
     "text": [
      "[*********************100%%**********************]  4 of 4 completed\n"
     ]
    },
    {
     "data": {
      "text/html": [
       "<div>\n",
       "<style scoped>\n",
       "    .dataframe tbody tr th:only-of-type {\n",
       "        vertical-align: middle;\n",
       "    }\n",
       "\n",
       "    .dataframe tbody tr th {\n",
       "        vertical-align: top;\n",
       "    }\n",
       "\n",
       "    .dataframe thead th {\n",
       "        text-align: right;\n",
       "    }\n",
       "</style>\n",
       "<table border=\"1\" class=\"dataframe\">\n",
       "  <thead>\n",
       "    <tr style=\"text-align: right;\">\n",
       "      <th></th>\n",
       "      <th>Open</th>\n",
       "      <th>High</th>\n",
       "      <th>Low</th>\n",
       "      <th>Close</th>\n",
       "      <th>Volume</th>\n",
       "      <th>is_higher</th>\n",
       "    </tr>\n",
       "  </thead>\n",
       "  <tbody>\n",
       "    <tr>\n",
       "      <th>0</th>\n",
       "      <td>16.770000</td>\n",
       "      <td>16.870001</td>\n",
       "      <td>16.049999</td>\n",
       "      <td>16.120001</td>\n",
       "      <td>256937900.0</td>\n",
       "      <td>0.0</td>\n",
       "    </tr>\n",
       "    <tr>\n",
       "      <th>1</th>\n",
       "      <td>35.000000</td>\n",
       "      <td>35.990002</td>\n",
       "      <td>33.889999</td>\n",
       "      <td>34.189999</td>\n",
       "      <td>457044300.0</td>\n",
       "      <td>0.0</td>\n",
       "    </tr>\n",
       "    <tr>\n",
       "      <th>2</th>\n",
       "      <td>77.360001</td>\n",
       "      <td>77.510002</td>\n",
       "      <td>76.830002</td>\n",
       "      <td>77.290001</td>\n",
       "      <td>989100.0</td>\n",
       "      <td>0.0</td>\n",
       "    </tr>\n",
       "    <tr>\n",
       "      <th>3</th>\n",
       "      <td>2.044667</td>\n",
       "      <td>2.049333</td>\n",
       "      <td>1.928000</td>\n",
       "      <td>1.992667</td>\n",
       "      <td>14341500.0</td>\n",
       "      <td>0.0</td>\n",
       "    </tr>\n",
       "    <tr>\n",
       "      <th>4</th>\n",
       "      <td>16.020000</td>\n",
       "      <td>16.379999</td>\n",
       "      <td>15.830000</td>\n",
       "      <td>16.280001</td>\n",
       "      <td>130323600.0</td>\n",
       "      <td>0.0</td>\n",
       "    </tr>\n",
       "  </tbody>\n",
       "</table>\n",
       "</div>"
      ],
      "text/plain": [
       "        Open       High        Low      Close       Volume  is_higher\n",
       "0  16.770000  16.870001  16.049999  16.120001  256937900.0        0.0\n",
       "1  35.000000  35.990002  33.889999  34.189999  457044300.0        0.0\n",
       "2  77.360001  77.510002  76.830002  77.290001     989100.0        0.0\n",
       "3   2.044667   2.049333   1.928000   1.992667   14341500.0        0.0\n",
       "4  16.020000  16.379999  15.830000  16.280001  130323600.0        0.0"
      ]
     },
     "execution_count": 24,
     "metadata": {},
     "output_type": "execute_result"
    }
   ],
   "source": [
    "import pandas as pd\n",
    "import yfinance as yf\n",
    "\n",
    "%matplotlib inline\n",
    "\n",
    "tickers = [\"F\", \"TM\", \"GM\", \"TSLA\"]\n",
    "\n",
    "first_date = '2009-01-01'\n",
    "last_date = '2024-08-17'\n",
    "\n",
    "# 从 Yahoo Finance 获取数据\n",
    "stock_panel = yf.download(tickers, start=first_date, end=last_date)\n",
    "\n",
    "# 获取收盘价数据并删除缺失值\n",
    "stock_df = stock_panel['Close'].dropna()\n",
    "\n",
    "# 计算180天后的股票是否上涨\n",
    "classes = (stock_df.shift(-180) > stock_df).astype(int)\n",
    "\n",
    "# 将 stock_panel 的数据用于进一步处理\n",
    "X = stock_panel.stack().reset_index()\n",
    "X = X.rename(columns={'level_1': 'Ticker', 0: 'Close'})\n",
    "\n",
    "# 处理 classes 数据\n",
    "classes = classes.stack().reset_index()\n",
    "classes = classes.rename(columns={'level_1': 'Ticker', 0: 'is_higher'})\n",
    "\n",
    "# 合并数据框架并删除缺失值\n",
    "data = pd.merge(X, classes, on=['Date', 'Ticker']).dropna()\n",
    "\n",
    "import patsy\n",
    "\n",
    "# 构建设计矩阵，公式中 - 1 表示不包括截距项\n",
    "X = patsy.dmatrix(\"Open + High + Low + Close + Volume + is_higher - 1\", data, return_type='dataframe')\n",
    "\n",
    "# 显示前几行数据\n",
    "X.head()\n",
    "\n"
   ]
  },
  {
   "cell_type": "code",
   "execution_count": 26,
   "metadata": {
    "collapsed": false,
    "jupyter": {
     "outputs_hidden": false
    }
   },
   "outputs": [
    {
     "data": {
      "text/plain": [
       "11926.0"
      ]
     },
     "execution_count": 26,
     "metadata": {},
     "output_type": "execute_result"
    }
   ],
   "source": [
    "from sklearn.discriminant_analysis import QuadraticDiscriminantAnalysis as QDA\n",
    "qda = QDA()\n",
    "\n",
    "qda.fit(X.iloc[:, :-1], X.iloc[:, -1])\n",
    "predictions = qda.predict(X.iloc[:, :-1])\n",
    "predictions.sum()"
   ]
  },
  {
   "cell_type": "code",
   "execution_count": 30,
   "metadata": {
    "collapsed": false,
    "jupyter": {
     "outputs_hidden": false
    }
   },
   "outputs": [
    {
     "name": "stdout",
     "output_type": "stream",
     "text": [
      "              precision    recall  f1-score   support\n",
      "\n",
      "         0.0       0.63      0.17      0.27      6995\n",
      "         1.0       0.51      0.90      0.65      6837\n",
      "\n",
      "    accuracy                           0.53     13832\n",
      "   macro avg       0.57      0.53      0.46     13832\n",
      "weighted avg       0.57      0.53      0.46     13832\n",
      "\n"
     ]
    }
   ],
   "source": [
    "from sklearn.metrics import classification_report\n",
    "print (classification_report(X.iloc[:, -1].values, predictions))"
   ]
  },
  {
   "cell_type": "code",
   "execution_count": 32,
   "metadata": {
    "collapsed": false,
    "jupyter": {
     "outputs_hidden": false
    }
   },
   "outputs": [
    {
     "data": {
      "text/plain": [
       "0.06515102827763496"
      ]
     },
     "execution_count": 32,
     "metadata": {},
     "output_type": "execute_result"
    }
   ],
   "source": [
    "from sklearn.model_selection import ShuffleSplit\n",
    "import scipy.stats as sp\n",
    "\n",
    "shuffle_split_inst = ShuffleSplit()\n",
    "\n",
    "for test, train in shuffle_split_inst.split(X):\n",
    "      train_set = X.iloc[train]\n",
    "      train_close = train_set.Close\n",
    "\n",
    "      train_0 = train_close[~train_set.is_higher.astype(bool)]\n",
    "      train_1 = train_close[train_set.is_higher.astype(bool)]\n",
    "\n",
    "      test_set = X.iloc[test]\n",
    "      test_close = test_set.Close.values\n",
    "\n",
    "ll_0 = sp.norm.pdf(test_close, train_0.mean())\n",
    "ll_1 = sp.norm.pdf(test_close, train_1.mean())\n",
    "\n",
    "(ll_0 > ll_1).mean()"
   ]
  }
 ],
 "metadata": {
  "kernelspec": {
   "display_name": "Python 3 (ipykernel)",
   "language": "python",
   "name": "python3"
  },
  "language_info": {
   "codemirror_mode": {
    "name": "ipython",
    "version": 3
   },
   "file_extension": ".py",
   "mimetype": "text/x-python",
   "name": "python",
   "nbconvert_exporter": "python",
   "pygments_lexer": "ipython3",
   "version": "3.11.7"
  }
 },
 "nbformat": 4,
 "nbformat_minor": 4
}
