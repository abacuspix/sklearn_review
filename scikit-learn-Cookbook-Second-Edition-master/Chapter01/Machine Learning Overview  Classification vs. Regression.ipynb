{
 "cells": [
  {
   "cell_type": "code",
   "execution_count": null,
   "metadata": {
    "collapsed": true,
    "jupyter": {
     "outputs_hidden": true
    }
   },
   "outputs": [],
   "source": [
    "#Machine Learning Overview: Classification vs. Regression"
   ]
  },
  {
   "cell_type": "code",
   "execution_count": 18,
   "metadata": {},
   "outputs": [],
   "source": [
    "import numpy as np\n",
    "import pandas as pd\n",
    "from sklearn import datasets\n",
    "\n",
    "iris = datasets.load_iris()"
   ]
  },
  {
   "cell_type": "code",
   "execution_count": 20,
   "metadata": {},
   "outputs": [],
   "source": [
    "X = iris.data[iris.target < 2]\n",
    "y = iris.target[iris.target < 2]"
   ]
  },
  {
   "cell_type": "code",
   "execution_count": 22,
   "metadata": {},
   "outputs": [],
   "source": [
    "from sklearn.model_selection import train_test_split\n",
    "from sklearn.metrics import accuracy_score\n",
    "\n",
    "X_train, X_test, y_train, y_test = train_test_split(X, y, stratify=y, random_state= 7)"
   ]
  },
  {
   "cell_type": "code",
   "execution_count": 24,
   "metadata": {
    "collapsed": false,
    "jupyter": {
     "outputs_hidden": false
    }
   },
   "outputs": [
    {
     "data": {
      "text/plain": [
       "1.0"
      ]
     },
     "execution_count": 24,
     "metadata": {},
     "output_type": "execute_result"
    }
   ],
   "source": [
    "from sklearn.svm import SVC\n",
    "from sklearn.model_selection import cross_val_score\n",
    "\n",
    "svc_clf = SVC(kernel = 'linear').fit(X_train, y_train)\n",
    "svc_scores = cross_val_score(svc_clf, X_train, y_train, cv=4)\n",
    "svc_scores.mean()"
   ]
  },
  {
   "cell_type": "code",
   "execution_count": 26,
   "metadata": {},
   "outputs": [],
   "source": [
    "from sklearn.svm import SVR\n",
    "\n",
    "svr_clf = SVR(kernel = 'linear').fit(X_train, y_train)"
   ]
  },
  {
   "cell_type": "code",
   "execution_count": 28,
   "metadata": {},
   "outputs": [],
   "source": [
    "from sklearn.metrics import make_scorer\n",
    "\n",
    "#Only works for this iris example with targets 0 and 1\n",
    "def for_scorer(y_test, orig_y_pred):\n",
    "    y_pred = np.rint(orig_y_pred).astype(np.int)   #rounds prediction to the nearest integer\n",
    "    return accuracy_score(y_test, y_pred)"
   ]
  },
  {
   "cell_type": "code",
   "execution_count": 30,
   "metadata": {},
   "outputs": [],
   "source": [
    "svr_to_class_scorer = make_scorer(for_scorer, greater_is_better=True) "
   ]
  },
  {
   "cell_type": "code",
   "execution_count": 34,
   "metadata": {
    "collapsed": false,
    "jupyter": {
     "outputs_hidden": false
    }
   },
   "outputs": [
    {
     "name": "stdout",
     "output_type": "stream",
     "text": [
      "Mean Cross-Validation Score: 1.0\n"
     ]
    }
   ],
   "source": [
    "from sklearn.model_selection import cross_val_score\n",
    "from sklearn.svm import SVR\n",
    "from sklearn.metrics import make_scorer\n",
    "import numpy as np\n",
    "\n",
    "# Assuming you have the data\n",
    "# X_train = ...\n",
    "# y_train = ...\n",
    "\n",
    "# Define your SVR model\n",
    "svr_clf = SVR(kernel='rbf')\n",
    "\n",
    "# Define a custom scoring function\n",
    "def svr_to_class_scorer(y_true, y_pred):\n",
    "    # Custom scoring logic\n",
    "    y_pred_class = [1 if pred > 0.5 else 0 for pred in y_pred]\n",
    "    return np.mean(y_true == y_pred_class)\n",
    "\n",
    "# Create a scorer object\n",
    "scorer = make_scorer(svr_to_class_scorer)\n",
    "\n",
    "# Perform cross-validation\n",
    "svr_scores = cross_val_score(svr_clf, X_train, y_train, cv=4, scoring=scorer)\n",
    "\n",
    "# Compute the mean score\n",
    "mean_score = svr_scores.mean()\n",
    "\n",
    "# Print the mean score\n",
    "print(\"Mean Cross-Validation Score:\", mean_score)\n"
   ]
  },
  {
   "cell_type": "code",
   "execution_count": 36,
   "metadata": {
    "collapsed": false,
    "jupyter": {
     "outputs_hidden": false
    }
   },
   "outputs": [
    {
     "data": {
      "text/plain": [
       "1.0"
      ]
     },
     "execution_count": 36,
     "metadata": {},
     "output_type": "execute_result"
    }
   ],
   "source": [
    "from sklearn.svm import SVC   #Usual import of SVC\n",
    "svc_poly_clf = SVC(kernel = 'poly', degree= 3).fit(X_train, y_train)  #Polynomial Kernel of Degree 3\n",
    "svc_poly_scores = cross_val_score(svc_clf, X_train, y_train, cv=4)\n",
    "svc_poly_scores.mean()"
   ]
  }
 ],
 "metadata": {
  "kernelspec": {
   "display_name": "Python 3 (ipykernel)",
   "language": "python",
   "name": "python3"
  },
  "language_info": {
   "codemirror_mode": {
    "name": "ipython",
    "version": 3
   },
   "file_extension": ".py",
   "mimetype": "text/x-python",
   "name": "python",
   "nbconvert_exporter": "python",
   "pygments_lexer": "ipython3",
   "version": "3.11.7"
  }
 },
 "nbformat": 4,
 "nbformat_minor": 4
}
