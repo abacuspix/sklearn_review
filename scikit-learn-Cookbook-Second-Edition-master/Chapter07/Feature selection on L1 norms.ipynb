{
 "cells": [
  {
   "cell_type": "code",
   "execution_count": 2,
   "metadata": {},
   "outputs": [],
   "source": [
    "#Feature selection on L1 norms"
   ]
  },
  {
   "cell_type": "code",
   "execution_count": 4,
   "metadata": {},
   "outputs": [],
   "source": [
    "import sklearn.datasets as ds\n",
    "diabetes = ds.load_diabetes()\n",
    "\n",
    "X = diabetes.data\n",
    "y = diabetes.target"
   ]
  },
  {
   "cell_type": "code",
   "execution_count": 6,
   "metadata": {},
   "outputs": [],
   "source": [
    "from sklearn.linear_model import LinearRegression\n",
    "lr = LinearRegression()"
   ]
  },
  {
   "cell_type": "code",
   "execution_count": 8,
   "metadata": {},
   "outputs": [],
   "source": [
    "from sklearn.metrics import make_scorer, mean_squared_error\n",
    "from sklearn.model_selection import cross_val_score,ShuffleSplit"
   ]
  },
  {
   "cell_type": "code",
   "execution_count": 10,
   "metadata": {
    "collapsed": false,
    "jupyter": {
     "outputs_hidden": false
    }
   },
   "outputs": [
    {
     "data": {
      "text/plain": [
       "-3053.3944241466193"
      ]
     },
     "execution_count": 10,
     "metadata": {},
     "output_type": "execute_result"
    }
   ],
   "source": [
    "shuff = ShuffleSplit(n_splits=10, test_size=0.25, random_state=0)\n",
    "score_before = cross_val_score(lr,X,y,cv=shuff,scoring=make_scorer(mean_squared_error,greater_is_better=False)).mean()\n",
    "\n",
    "score_before"
   ]
  },
  {
   "cell_type": "code",
   "execution_count": 12,
   "metadata": {
    "collapsed": false,
    "jupyter": {
     "outputs_hidden": false
    }
   },
   "outputs": [
    {
     "data": {
      "text/plain": [
       "array([  -6.49469328, -235.99308032,  521.7443693 ,  321.0607768 ,\n",
       "       -569.43813385,  302.45319289,   -0.        ,  143.69851474,\n",
       "        669.92267515,   66.83551067])"
      ]
     },
     "execution_count": 12,
     "metadata": {},
     "output_type": "execute_result"
    }
   ],
   "source": [
    "from sklearn.linear_model import LassoCV\n",
    "\n",
    "lasso_cv = LassoCV()\n",
    "lasso_cv.fit(X,y)\n",
    "lasso_cv.coef_"
   ]
  },
  {
   "cell_type": "code",
   "execution_count": 14,
   "metadata": {
    "collapsed": false,
    "jupyter": {
     "outputs_hidden": false
    }
   },
   "outputs": [
    {
     "data": {
      "text/plain": [
       "array([0, 1, 2, 3, 4, 5, 7, 8, 9])"
      ]
     },
     "execution_count": 14,
     "metadata": {},
     "output_type": "execute_result"
    }
   ],
   "source": [
    "import numpy as np\n",
    "columns = np.arange(X.shape[1])[lasso_cv.coef_ != 0]\n",
    "columns"
   ]
  },
  {
   "cell_type": "code",
   "execution_count": 16,
   "metadata": {
    "collapsed": false,
    "jupyter": {
     "outputs_hidden": false
    }
   },
   "outputs": [
    {
     "data": {
      "text/plain": [
       "-3025.7608957342572"
      ]
     },
     "execution_count": 16,
     "metadata": {},
     "output_type": "execute_result"
    }
   ],
   "source": [
    "score_afterwards = cross_val_score(lr,X[:,columns],y,cv=shuff, scoring=make_scorer(mean_squared_error,greater_is_better=False)).mean()\n",
    "score_afterwards"
   ]
  },
  {
   "cell_type": "code",
   "execution_count": 18,
   "metadata": {},
   "outputs": [],
   "source": [
    "X, y = ds.make_regression(noise=5)\n",
    "shuff = ShuffleSplit(n_splits=10, test_size=0.25, random_state=0)\n",
    "\n",
    "score_before = cross_val_score(lr,X,y,cv=shuff, scoring=make_scorer(mean_squared_error,greater_is_better=False)).mean()"
   ]
  },
  {
   "cell_type": "code",
   "execution_count": 26,
   "metadata": {
    "collapsed": false,
    "jupyter": {
     "outputs_hidden": false
    }
   },
   "outputs": [
    {
     "name": "stdout",
     "output_type": "stream",
     "text": [
      "Score before: -0.08054701361401051\n",
      "Score after: -0.07984921430849952\n"
     ]
    }
   ],
   "source": [
    "import numpy as np\n",
    "import pandas as pd\n",
    "from sklearn.model_selection import cross_val_score, ShuffleSplit\n",
    "from sklearn.linear_model import LassoCV, LinearRegression\n",
    "from sklearn.metrics import make_scorer, mean_squared_error\n",
    "\n",
    "# Sample dataset creation for demonstration\n",
    "# Replace this with your actual dataset\n",
    "data = {\n",
    "    'feature1': np.random.rand(1000),\n",
    "    'feature2': np.random.rand(1000),\n",
    "    'feature3': np.random.rand(1000),\n",
    "    'feature4': np.random.rand(1000),\n",
    "    'target': np.random.rand(1000)\n",
    "}\n",
    "dataset = pd.DataFrame(data)\n",
    "\n",
    "# Separate features and target\n",
    "X = dataset.drop(columns=['target']).values\n",
    "y = dataset['target'].values\n",
    "\n",
    "# Initialize LassoCV\n",
    "lasso_cv = LassoCV(cv=5)\n",
    "lasso_cv.fit(X, y)\n",
    "\n",
    "# Identify columns with non-zero coefficients\n",
    "selected_columns = np.arange(X.shape[1])[lasso_cv.coef_ != 0]\n",
    "\n",
    "if len(selected_columns) == 0:\n",
    "    print(\"No features selected by LassoCV.\")\n",
    "else:\n",
    "    # Initialize LinearRegression\n",
    "    lr = LinearRegression()\n",
    "\n",
    "    # ShuffleSplit cross-validation\n",
    "    shuffle_split = ShuffleSplit(n_splits=100, test_size=0.5, random_state=0)\n",
    "\n",
    "    # Score before feature selection\n",
    "    score_before = cross_val_score(lr, X, y, cv=shuffle_split, scoring=make_scorer(mean_squared_error, greater_is_better=False)).mean()\n",
    "\n",
    "    # Score after feature selection\n",
    "    score_afterwards = cross_val_score(lr, X[:, selected_columns], y, cv=shuffle_split, scoring=make_scorer(mean_squared_error, greater_is_better=False)).mean()\n",
    "\n",
    "    print(\"Score before:\", score_before)\n",
    "    print(\"Score after:\", score_afterwards)\n"
   ]
  },
  {
   "cell_type": "code",
   "execution_count": null,
   "metadata": {},
   "outputs": [],
   "source": []
  }
 ],
 "metadata": {
  "kernelspec": {
   "display_name": "Python 3 (ipykernel)",
   "language": "python",
   "name": "python3"
  },
  "language_info": {
   "codemirror_mode": {
    "name": "ipython",
    "version": 3
   },
   "file_extension": ".py",
   "mimetype": "text/x-python",
   "name": "python",
   "nbconvert_exporter": "python",
   "pygments_lexer": "ipython3",
   "version": "3.11.7"
  }
 },
 "nbformat": 4,
 "nbformat_minor": 4
}
